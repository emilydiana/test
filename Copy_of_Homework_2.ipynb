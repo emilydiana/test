{
  "nbformat": 4,
  "nbformat_minor": 0,
  "metadata": {
    "colab": {
      "name": "Copy of Homework_2.ipynb",
      "provenance": [],
      "collapsed_sections": [],
      "include_colab_link": true
    },
    "kernelspec": {
      "display_name": "Python 3",
      "language": "python",
      "name": "python3"
    },
    "language_info": {
      "codemirror_mode": {
        "name": "ipython",
        "version": 3
      },
      "file_extension": ".py",
      "mimetype": "text/x-python",
      "name": "python",
      "nbconvert_exporter": "python",
      "pygments_lexer": "ipython3",
      "version": "3.7.3"
    }
  },
  "cells": [
    {
      "cell_type": "markdown",
      "metadata": {
        "id": "view-in-github",
        "colab_type": "text"
      },
      "source": [
        "<a href=\"https://colab.research.google.com/github/emilydiana/test/blob/master/Copy_of_Homework_2.ipynb\" target=\"_parent\"><img src=\"https://colab.research.google.com/assets/colab-badge.svg\" alt=\"Open In Colab\"/></a>"
      ]
    },
    {
      "cell_type": "markdown",
      "metadata": {
        "id": "DKCcZ2_rosJ0",
        "colab_type": "text"
      },
      "source": [
        "# CIS 545 - Big Data Analytics - Fall 2019"
      ]
    },
    {
      "cell_type": "markdown",
      "metadata": {
        "colab_type": "text",
        "deletable": false,
        "editable": false,
        "id": "syxh_fwyTAVU",
        "nbgrader": {
          "cell_type": "markdown",
          "checksum": "07f80342af7b3f53232fa665711a4f8d",
          "grade": false,
          "grade_id": "cell-fe1ccb2b0cf04ec5",
          "locked": true,
          "schema_version": 3,
          "solution": false,
          "task": false
        }
      },
      "source": [
        "# Homework 2: Querying Linked (LinkedIn) Data\n",
        "\n",
        "# Due October 11, 2019 at 10pm"
      ]
    },
    {
      "cell_type": "markdown",
      "metadata": {
        "colab_type": "text",
        "deletable": false,
        "editable": false,
        "id": "-kIU5Hyh_ze0",
        "nbgrader": {
          "cell_type": "markdown",
          "checksum": "66956d89cf4b869a752255872c9acf23",
          "grade": false,
          "grade_id": "cell-388a39fc469b703f",
          "locked": true,
          "schema_version": 3,
          "solution": false,
          "task": false
        }
      },
      "source": [
        "Have you ever wondered about (1) what it takes to be a data scientist or \"data person\", and (2) how social networks and recommender systems work?\n",
        "\n",
        "This homework is focused on (1) working with hierarchical data stored in dataframes, (2) traversing relationships among data, including graph data, (3) understanding a bit about performance.\n",
        "\n",
        "We will focus on questions about data scientists from \"our\" crawl of the LinkedIn dataset, which was also used in the Lecture (module) 2 extended notebook."
      ]
    },
    {
      "cell_type": "code",
      "metadata": {
        "colab_type": "code",
        "id": "84c0VetBS-Ae",
        "outputId": "8ac0bf75-c5b0-4686-e479-edbb83345dde",
        "colab": {
          "base_uri": "https://localhost:8080/",
          "height": 1000
        }
      },
      "source": [
        "!pip install pymongo[tls,srv]\n",
        "!pip install swifter\n",
        "!pip install lxml"
      ],
      "execution_count": 1,
      "outputs": [
        {
          "output_type": "stream",
          "text": [
            "Requirement already satisfied: pymongo[srv,tls] in /usr/local/lib/python3.6/dist-packages (3.9.0)\n",
            "Requirement already satisfied: dnspython<2.0.0,>=1.16.0; extra == \"srv\" in /usr/local/lib/python3.6/dist-packages (from pymongo[srv,tls]) (1.16.0)\n",
            "Requirement already satisfied: swifter in /usr/local/lib/python3.6/dist-packages (0.295)\n",
            "Requirement already satisfied: tqdm>=4.33.0 in /usr/local/lib/python3.6/dist-packages (from swifter) (4.36.1)\n",
            "Requirement already satisfied: parso>0.4.0 in /usr/local/lib/python3.6/dist-packages (from swifter) (0.5.1)\n",
            "Requirement already satisfied: pandas>=0.23.0 in /usr/local/lib/python3.6/dist-packages (from swifter) (0.24.2)\n",
            "Requirement already satisfied: numba in /usr/local/lib/python3.6/dist-packages (from swifter) (0.40.1)\n",
            "Requirement already satisfied: dask[complete]>=0.19.0 in /usr/local/lib/python3.6/dist-packages (from swifter) (1.1.5)\n",
            "Requirement already satisfied: ipywidgets>=7.0.0 in /usr/local/lib/python3.6/dist-packages (from swifter) (7.5.1)\n",
            "Requirement already satisfied: psutil in /usr/local/lib/python3.6/dist-packages (from swifter) (5.4.8)\n",
            "Requirement already satisfied: numpy>=1.12.0 in /usr/local/lib/python3.6/dist-packages (from pandas>=0.23.0->swifter) (1.16.5)\n",
            "Requirement already satisfied: pytz>=2011k in /usr/local/lib/python3.6/dist-packages (from pandas>=0.23.0->swifter) (2018.9)\n",
            "Requirement already satisfied: python-dateutil>=2.5.0 in /usr/local/lib/python3.6/dist-packages (from pandas>=0.23.0->swifter) (2.5.3)\n",
            "Requirement already satisfied: llvmlite>=0.25.0dev0 in /usr/local/lib/python3.6/dist-packages (from numba->swifter) (0.29.0)\n",
            "Requirement already satisfied: cloudpickle>=0.2.1; extra == \"complete\" in /usr/local/lib/python3.6/dist-packages (from dask[complete]>=0.19.0->swifter) (0.6.1)\n",
            "Requirement already satisfied: partd>=0.3.8; extra == \"complete\" in /usr/local/lib/python3.6/dist-packages (from dask[complete]>=0.19.0->swifter) (1.0.0)\n",
            "Requirement already satisfied: distributed>=1.22; extra == \"complete\" in /usr/local/lib/python3.6/dist-packages (from dask[complete]>=0.19.0->swifter) (1.25.3)\n",
            "Requirement already satisfied: toolz>=0.7.3; extra == \"complete\" in /usr/local/lib/python3.6/dist-packages (from dask[complete]>=0.19.0->swifter) (0.10.0)\n",
            "Requirement already satisfied: traitlets>=4.3.1 in /usr/local/lib/python3.6/dist-packages (from ipywidgets>=7.0.0->swifter) (4.3.2)\n",
            "Requirement already satisfied: ipykernel>=4.5.1 in /usr/local/lib/python3.6/dist-packages (from ipywidgets>=7.0.0->swifter) (4.6.1)\n",
            "Requirement already satisfied: widgetsnbextension~=3.5.0 in /usr/local/lib/python3.6/dist-packages (from ipywidgets>=7.0.0->swifter) (3.5.1)\n",
            "Requirement already satisfied: ipython>=4.0.0; python_version >= \"3.3\" in /usr/local/lib/python3.6/dist-packages (from ipywidgets>=7.0.0->swifter) (5.5.0)\n",
            "Requirement already satisfied: nbformat>=4.2.0 in /usr/local/lib/python3.6/dist-packages (from ipywidgets>=7.0.0->swifter) (4.4.0)\n",
            "Requirement already satisfied: six>=1.5 in /usr/local/lib/python3.6/dist-packages (from python-dateutil>=2.5.0->pandas>=0.23.0->swifter) (1.12.0)\n",
            "Requirement already satisfied: locket in /usr/local/lib/python3.6/dist-packages (from partd>=0.3.8; extra == \"complete\"->dask[complete]>=0.19.0->swifter) (0.2.0)\n",
            "Requirement already satisfied: tblib in /usr/local/lib/python3.6/dist-packages (from distributed>=1.22; extra == \"complete\"->dask[complete]>=0.19.0->swifter) (1.4.0)\n",
            "Requirement already satisfied: msgpack in /usr/local/lib/python3.6/dist-packages (from distributed>=1.22; extra == \"complete\"->dask[complete]>=0.19.0->swifter) (0.5.6)\n",
            "Requirement already satisfied: click>=6.6 in /usr/local/lib/python3.6/dist-packages (from distributed>=1.22; extra == \"complete\"->dask[complete]>=0.19.0->swifter) (7.0)\n",
            "Requirement already satisfied: tornado>=4.5.1 in /usr/local/lib/python3.6/dist-packages (from distributed>=1.22; extra == \"complete\"->dask[complete]>=0.19.0->swifter) (4.5.3)\n",
            "Requirement already satisfied: zict>=0.1.3 in /usr/local/lib/python3.6/dist-packages (from distributed>=1.22; extra == \"complete\"->dask[complete]>=0.19.0->swifter) (1.0.0)\n",
            "Requirement already satisfied: sortedcontainers!=2.0.0,!=2.0.1 in /usr/local/lib/python3.6/dist-packages (from distributed>=1.22; extra == \"complete\"->dask[complete]>=0.19.0->swifter) (2.1.0)\n",
            "Requirement already satisfied: pyyaml in /usr/local/lib/python3.6/dist-packages (from distributed>=1.22; extra == \"complete\"->dask[complete]>=0.19.0->swifter) (3.13)\n",
            "Requirement already satisfied: decorator in /usr/local/lib/python3.6/dist-packages (from traitlets>=4.3.1->ipywidgets>=7.0.0->swifter) (4.4.0)\n",
            "Requirement already satisfied: ipython-genutils in /usr/local/lib/python3.6/dist-packages (from traitlets>=4.3.1->ipywidgets>=7.0.0->swifter) (0.2.0)\n",
            "Requirement already satisfied: jupyter-client in /usr/local/lib/python3.6/dist-packages (from ipykernel>=4.5.1->ipywidgets>=7.0.0->swifter) (5.3.3)\n",
            "Requirement already satisfied: notebook>=4.4.1 in /usr/local/lib/python3.6/dist-packages (from widgetsnbextension~=3.5.0->ipywidgets>=7.0.0->swifter) (5.2.2)\n",
            "Requirement already satisfied: pexpect; sys_platform != \"win32\" in /usr/local/lib/python3.6/dist-packages (from ipython>=4.0.0; python_version >= \"3.3\"->ipywidgets>=7.0.0->swifter) (4.7.0)\n",
            "Requirement already satisfied: pickleshare in /usr/local/lib/python3.6/dist-packages (from ipython>=4.0.0; python_version >= \"3.3\"->ipywidgets>=7.0.0->swifter) (0.7.5)\n",
            "Requirement already satisfied: pygments in /usr/local/lib/python3.6/dist-packages (from ipython>=4.0.0; python_version >= \"3.3\"->ipywidgets>=7.0.0->swifter) (2.1.3)\n",
            "Requirement already satisfied: simplegeneric>0.8 in /usr/local/lib/python3.6/dist-packages (from ipython>=4.0.0; python_version >= \"3.3\"->ipywidgets>=7.0.0->swifter) (0.8.1)\n",
            "Requirement already satisfied: prompt-toolkit<2.0.0,>=1.0.4 in /usr/local/lib/python3.6/dist-packages (from ipython>=4.0.0; python_version >= \"3.3\"->ipywidgets>=7.0.0->swifter) (1.0.16)\n",
            "Requirement already satisfied: setuptools>=18.5 in /usr/local/lib/python3.6/dist-packages (from ipython>=4.0.0; python_version >= \"3.3\"->ipywidgets>=7.0.0->swifter) (41.2.0)\n",
            "Requirement already satisfied: jsonschema!=2.5.0,>=2.4 in /usr/local/lib/python3.6/dist-packages (from nbformat>=4.2.0->ipywidgets>=7.0.0->swifter) (2.6.0)\n",
            "Requirement already satisfied: jupyter-core in /usr/local/lib/python3.6/dist-packages (from nbformat>=4.2.0->ipywidgets>=7.0.0->swifter) (4.5.0)\n",
            "Requirement already satisfied: heapdict in /usr/local/lib/python3.6/dist-packages (from zict>=0.1.3->distributed>=1.22; extra == \"complete\"->dask[complete]>=0.19.0->swifter) (1.0.1)\n",
            "Requirement already satisfied: pyzmq>=13 in /usr/local/lib/python3.6/dist-packages (from jupyter-client->ipykernel>=4.5.1->ipywidgets>=7.0.0->swifter) (17.0.0)\n",
            "Requirement already satisfied: nbconvert in /usr/local/lib/python3.6/dist-packages (from notebook>=4.4.1->widgetsnbextension~=3.5.0->ipywidgets>=7.0.0->swifter) (5.6.0)\n",
            "Requirement already satisfied: jinja2 in /usr/local/lib/python3.6/dist-packages (from notebook>=4.4.1->widgetsnbextension~=3.5.0->ipywidgets>=7.0.0->swifter) (2.10.1)\n",
            "Requirement already satisfied: terminado>=0.3.3; sys_platform != \"win32\" in /usr/local/lib/python3.6/dist-packages (from notebook>=4.4.1->widgetsnbextension~=3.5.0->ipywidgets>=7.0.0->swifter) (0.8.2)\n",
            "Requirement already satisfied: ptyprocess>=0.5 in /usr/local/lib/python3.6/dist-packages (from pexpect; sys_platform != \"win32\"->ipython>=4.0.0; python_version >= \"3.3\"->ipywidgets>=7.0.0->swifter) (0.6.0)\n",
            "Requirement already satisfied: wcwidth in /usr/local/lib/python3.6/dist-packages (from prompt-toolkit<2.0.0,>=1.0.4->ipython>=4.0.0; python_version >= \"3.3\"->ipywidgets>=7.0.0->swifter) (0.1.7)\n",
            "Requirement already satisfied: bleach in /usr/local/lib/python3.6/dist-packages (from nbconvert->notebook>=4.4.1->widgetsnbextension~=3.5.0->ipywidgets>=7.0.0->swifter) (3.1.0)\n",
            "Requirement already satisfied: pandocfilters>=1.4.1 in /usr/local/lib/python3.6/dist-packages (from nbconvert->notebook>=4.4.1->widgetsnbextension~=3.5.0->ipywidgets>=7.0.0->swifter) (1.4.2)\n",
            "Requirement already satisfied: testpath in /usr/local/lib/python3.6/dist-packages (from nbconvert->notebook>=4.4.1->widgetsnbextension~=3.5.0->ipywidgets>=7.0.0->swifter) (0.4.2)\n",
            "Requirement already satisfied: entrypoints>=0.2.2 in /usr/local/lib/python3.6/dist-packages (from nbconvert->notebook>=4.4.1->widgetsnbextension~=3.5.0->ipywidgets>=7.0.0->swifter) (0.3)\n",
            "Requirement already satisfied: mistune<2,>=0.8.1 in /usr/local/lib/python3.6/dist-packages (from nbconvert->notebook>=4.4.1->widgetsnbextension~=3.5.0->ipywidgets>=7.0.0->swifter) (0.8.4)\n",
            "Requirement already satisfied: defusedxml in /usr/local/lib/python3.6/dist-packages (from nbconvert->notebook>=4.4.1->widgetsnbextension~=3.5.0->ipywidgets>=7.0.0->swifter) (0.6.0)\n",
            "Requirement already satisfied: MarkupSafe>=0.23 in /usr/local/lib/python3.6/dist-packages (from jinja2->notebook>=4.4.1->widgetsnbextension~=3.5.0->ipywidgets>=7.0.0->swifter) (1.1.1)\n",
            "Requirement already satisfied: webencodings in /usr/local/lib/python3.6/dist-packages (from bleach->nbconvert->notebook>=4.4.1->widgetsnbextension~=3.5.0->ipywidgets>=7.0.0->swifter) (0.5.1)\n",
            "Requirement already satisfied: lxml in /usr/local/lib/python3.6/dist-packages (4.2.6)\n"
          ],
          "name": "stdout"
        }
      ]
    },
    {
      "cell_type": "code",
      "metadata": {
        "colab_type": "code",
        "id": "0yFCA_BnTDWL",
        "colab": {}
      },
      "source": [
        "import pandas as pd\n",
        "import numpy as np\n",
        "import json\n",
        "import sqlite3\n",
        "from lxml import etree\n",
        "import urllib\n",
        "import zipfile\n",
        "\n",
        "import time\n",
        "import swifter\n",
        "from pymongo import MongoClient\n",
        "from pymongo.errors import DuplicateKeyError, OperationFailure"
      ],
      "execution_count": 0,
      "outputs": []
    },
    {
      "cell_type": "markdown",
      "metadata": {
        "colab_type": "text",
        "deletable": false,
        "editable": false,
        "id": "62VpoB2eU6lz",
        "nbgrader": {
          "cell_type": "markdown",
          "checksum": "2c1ade1ed098ba7b6d850eebda8d566f",
          "grade": false,
          "grade_id": "cell-2bb8ffaa9ddfdf13",
          "locked": true,
          "schema_version": 3,
          "solution": false,
          "task": false
        }
      },
      "source": [
        "# Step 0: Acquire and load data\n",
        "\n",
        "We need to pull the zipfile with LinkedIn data from Amazon S3 (where it is shared) to your local machine or the Google Colab cloud-hosted machine.  Only when the data is local can we efficiently parse it (and we'll read directly out of a zip file).\n",
        "\n",
        "The zip file contains three files with the same schema.  You can start with the `tiny` instance to test your queries, then go on to `small`.  If you're brave and have a lot of time feel free to use the full file.\n",
        "\n",
        "**We will grade your homework using `small`. Hidden test 0.0 will override your file selection, so as long as you do not change the file selection in a cell that comes after that one, you will be fine.**\n",
        "\n",
        "* `linkedin.json` (3M records)\n",
        "* `linkedin_small.json` (100K records)\n",
        "* `linkedin_tiny.json` (10K records)\n",
        "\n",
        "The cell below will download a 3GB file to your Google Cloud. It may take a while. You do not need to modify the two cells below."
      ]
    },
    {
      "cell_type": "code",
      "metadata": {
        "colab_type": "code",
        "id": "Y5pOCyFCgTtY",
        "colab": {}
      },
      "source": [
        "url = 'https://upenn-bigdataanalytics.s3.amazonaws.com/linkedin.zip'\n",
        "filehandle, _ = urllib.request.urlretrieve(url,filename='local.zip')\n",
        "filehandle = 'local.zip'"
      ],
      "execution_count": 0,
      "outputs": []
    },
    {
      "cell_type": "code",
      "metadata": {
        "colab_type": "code",
        "id": "pi5XAWkehTOJ",
        "outputId": "5ac19e5b-f73f-441c-ae96-d2d119600b08",
        "colab": {
          "base_uri": "https://localhost:8080/",
          "height": 34
        }
      },
      "source": [
        "# What's the zip file actually called locally?\n",
        "\n",
        "filehandle"
      ],
      "execution_count": 4,
      "outputs": [
        {
          "output_type": "execute_result",
          "data": {
            "text/plain": [
              "'local.zip'"
            ]
          },
          "metadata": {
            "tags": []
          },
          "execution_count": 4
        }
      ]
    },
    {
      "cell_type": "markdown",
      "metadata": {
        "deletable": false,
        "editable": false,
        "nbgrader": {
          "cell_type": "markdown",
          "checksum": "641d22e91a3dae8a1ae26cfd88714eea",
          "grade": false,
          "grade_id": "cell-f81f52c4a3ec94ad",
          "locked": true,
          "schema_version": 3,
          "solution": false,
          "task": false
        },
        "id": "VY64R_HyosKJ",
        "colab_type": "text"
      },
      "source": [
        "The cell below creates pointers to the three versions of our dataset. To switch between them, simply change the `file` variable in the cell after the cell below."
      ]
    },
    {
      "cell_type": "code",
      "metadata": {
        "colab_type": "code",
        "id": "JwpR-SU_gzMC",
        "colab": {}
      },
      "source": [
        "def fetch_file(fname):\n",
        "    zip_file_object = zipfile.ZipFile(filehandle, 'r')\n",
        "    for file in zip_file_object.namelist():\n",
        "        file = zip_file_object.open(file)\n",
        "        if file.name == fname: return file\n",
        "    return None\n",
        "    \n",
        "linkedin_tiny = fetch_file('linkedin_tiny.json')\n",
        "linkedin_small = fetch_file('linkedin_small.json')\n",
        "linkedin_huge = fetch_file('linkedin.json')"
      ],
      "execution_count": 0,
      "outputs": []
    },
    {
      "cell_type": "code",
      "metadata": {
        "colab_type": "code",
        "deletable": false,
        "editable": false,
        "id": "4ocD2cu9cyxP",
        "nbgrader": {
          "cell_type": "code",
          "checksum": "11dfe943eabcda794c7cbeb159221392",
          "grade": true,
          "grade_id": "0-0-test",
          "locked": true,
          "points": 0,
          "schema_version": 3,
          "solution": false,
          "task": false
        },
        "colab": {}
      },
      "source": [
        "# CIS 545 Hidden Test 0.0 - please do not modify or delete this cell!\n",
        "\n",
        "# Set the input file to process\n",
        "file = linkedin_small\n"
      ],
      "execution_count": 0,
      "outputs": []
    },
    {
      "cell_type": "markdown",
      "metadata": {
        "colab_type": "text",
        "deletable": false,
        "editable": false,
        "id": "ud1c3IAbhszs",
        "nbgrader": {
          "cell_type": "markdown",
          "checksum": "468120adc95b35087ae865792ad51f00",
          "grade": false,
          "grade_id": "cell-63e729eee9ebf28b",
          "locked": true,
          "schema_version": 3,
          "solution": false,
          "task": false
        }
      },
      "source": [
        "## Step 0.1:  Store data in dataframes\n",
        "\n",
        "In the cell below, adapt the data loading code from the [in-class notebook](https://colab.research.google.com/drive/1V-QGYHI3YdLVv3sjnfQn7xmy6xEdjJnm).  You will need the function that extracts relations from JSON files and the function that converts relations to dataframes. Read in a maximum of 20000 people. Put the code that reads a line of the file, extracts the relations, removes the interval field, and stores the field information with a try statement, just in case. In the error case, just use a `pass` command to move on. At the end of the next cell, you should have nine dataframes with the following names:\n",
        "\n",
        "1. `people_df`\n",
        "2. `names_df`\n",
        "3. `education_df`\n",
        "4. `groups_df`\n",
        "5. `skills_df`\n",
        "6. `experience_df`\n",
        "7. `honors_df`\n",
        "8. `also_view_df`\n",
        "9. `events_df`"
      ]
    },
    {
      "cell_type": "code",
      "metadata": {
        "colab_type": "code",
        "deletable": false,
        "id": "08Fnhejfhr1P",
        "nbgrader": {
          "cell_type": "code",
          "checksum": "9b46968eac5d4f8299c77f32769abe04",
          "grade": false,
          "grade_id": "0-1-ans",
          "locked": false,
          "schema_version": 3,
          "solution": true,
          "task": false
        },
        "colab": {}
      },
      "source": [
        "# TODO: Adapt the data loading code from class.\n",
        "#my_list = [json.loads(line) for line in file]\n",
        "'''\n",
        "Simple code to pull out data from JSON and load into sqllite\n",
        "'''\n",
        "linked_in = urllib.request.urlopen('https://www.cis.upenn.edu/~cis545/xaa')\n",
        "\n",
        "START = 0\n",
        "LIMIT = 20000\n",
        "\n",
        "def get_df(rel):\n",
        "    ret = pd.DataFrame(rel).fillna('')\n",
        "    for k in ret.keys():\n",
        "        ret[k] = ret[k].astype(str)\n",
        "    return ret\n",
        "\n",
        "def extract_relation(rel, name):\n",
        "    '''\n",
        "    Pull out a nested list that has a key, and return it as a list\n",
        "    of dictionaries suitable for treating as a relation / dataframe\n",
        "    '''\n",
        "    # We'll return a list\n",
        "    ret  = []\n",
        "    if name in rel:\n",
        "        ret2 = rel.pop(name)\n",
        "        try:\n",
        "            # Try to parse the string as a dictionary\n",
        "            ret2 = json.loads(ret2.replace('\\'','\\\"'))\n",
        "        except:\n",
        "            # If we get an error in parsing, we'll leave as a string\n",
        "            pass\n",
        "        \n",
        "        # If it's a dictionary, add it to our return results after\n",
        "        # adding a key to the parent\n",
        "        if isinstance(ret2, dict):\n",
        "            item = ret2\n",
        "            item['person'] = rel['_id']\n",
        "            ret.append(item)\n",
        "        else:\n",
        "            # If it's a list, iterate over each item\n",
        "            index = 0\n",
        "            for r in ret2:\n",
        "                item = r\n",
        "                if not isinstance(item, dict):\n",
        "                    item = {'person': rel['_id'], 'value': item}\n",
        "                else:\n",
        "                    item['person'] = rel['_id']\n",
        "                    \n",
        "                # A fix to a typo in the data\n",
        "                if 'affilition' in item:\n",
        "                    item['affiliation'] = item.pop('affilition')\n",
        "                    \n",
        "                item['pos'] = index\n",
        "                index = index + 1\n",
        "                ret.append(item)\n",
        "    return ret\n",
        "    \n",
        "\n",
        "names = []\n",
        "people = []\n",
        "groups = []\n",
        "education = []\n",
        "skills = []\n",
        "experience = []\n",
        "honors = []\n",
        "also_view = []\n",
        "events = []\n",
        "\n",
        "\n",
        "conn = sqlite3.connect('linkedin.db')\n",
        "\n",
        "lines = []\n",
        "i = 1\n",
        "for line in linked_in:\n",
        "    if i > START + LIMIT:\n",
        "        break\n",
        "    elif i >= START:\n",
        "        person = json.loads(line)\n",
        "\n",
        "        # By inspection, all of these are nested dictionary or list content\n",
        "        nam = extract_relation(person, 'name')\n",
        "        edu = extract_relation(person, 'education')\n",
        "        grp = extract_relation(person, 'group')\n",
        "        skl = extract_relation(person, 'skills')\n",
        "        exp  = extract_relation(person, 'experience')\n",
        "        hon = extract_relation(person, 'honors')\n",
        "        als = extract_relation(person, 'also_view')\n",
        "        eve = extract_relation(person, 'events')\n",
        "        \n",
        "        # This doesn't seem relevant and it's the only\n",
        "        # non-string field that's sometimes null\n",
        "        if 'interval' in person:\n",
        "            person.pop('interval')\n",
        "        \n",
        "        lines.append(person)\n",
        "        names = names + nam\n",
        "        education = education + edu\n",
        "        groups  = groups + grp\n",
        "        skills = skills + skl\n",
        "        experience = experience + exp\n",
        "        honors = honors + hon\n",
        "        also_view = also_view + als\n",
        "        events = events + eve\n",
        "        \n",
        "    i = i + 1\n",
        "\n",
        "people_df = get_df(pd.DataFrame(lines))\n",
        "names_df = get_df(pd.DataFrame(names))\n",
        "education_df = get_df(pd.DataFrame(education))\n",
        "groups_df = get_df(pd.DataFrame(groups))\n",
        "skills_df = get_df(pd.DataFrame(skills))\n",
        "experience_df = get_df(pd.DataFrame(experience))\n",
        "honors_df = get_df(pd.DataFrame(honors))\n",
        "also_view_df = get_df(pd.DataFrame(also_view))\n",
        "events_df = get_df(pd.DataFrame(events))\n",
        "\n"
      ],
      "execution_count": 0,
      "outputs": []
    },
    {
      "cell_type": "code",
      "metadata": {
        "colab_type": "code",
        "deletable": false,
        "editable": false,
        "id": "ufXTMBMiSoPw",
        "nbgrader": {
          "cell_type": "code",
          "checksum": "d777f998083497aa09c5865d9204eff7",
          "grade": true,
          "grade_id": "0-1-san",
          "locked": true,
          "points": 1,
          "schema_version": 3,
          "solution": false,
          "task": false
        },
        "outputId": "bd6f5639-d444-4ca3-f5c1-5b66de429e65",
        "colab": {
          "base_uri": "https://localhost:8080/",
          "height": 1000
        }
      },
      "source": [
        "# CIS 545 Sanity Check 0.1 - please do not modify or delete this cell!\n",
        "\n",
        "display(experience_df)\n"
      ],
      "execution_count": 8,
      "outputs": [
        {
          "output_type": "display_data",
          "data": {
            "text/html": [
              "<div>\n",
              "<style scoped>\n",
              "    .dataframe tbody tr th:only-of-type {\n",
              "        vertical-align: middle;\n",
              "    }\n",
              "\n",
              "    .dataframe tbody tr th {\n",
              "        vertical-align: top;\n",
              "    }\n",
              "\n",
              "    .dataframe thead th {\n",
              "        text-align: right;\n",
              "    }\n",
              "</style>\n",
              "<table border=\"1\" class=\"dataframe\">\n",
              "  <thead>\n",
              "    <tr style=\"text-align: right;\">\n",
              "      <th></th>\n",
              "      <th>desc</th>\n",
              "      <th>end</th>\n",
              "      <th>org</th>\n",
              "      <th>person</th>\n",
              "      <th>pos</th>\n",
              "      <th>start</th>\n",
              "      <th>title</th>\n",
              "    </tr>\n",
              "  </thead>\n",
              "  <tbody>\n",
              "    <tr>\n",
              "      <th>0</th>\n",
              "      <td>Biomarker Leader for compounds in clinical dev...</td>\n",
              "      <td>Present</td>\n",
              "      <td>Johnson and Johnson</td>\n",
              "      <td>in-00001</td>\n",
              "      <td>0</td>\n",
              "      <td>November 2009</td>\n",
              "      <td>Senior Scientist, Oncology Biomarkers</td>\n",
              "    </tr>\n",
              "    <tr>\n",
              "      <th>1</th>\n",
              "      <td>Single Cell Gene expression.</td>\n",
              "      <td></td>\n",
              "      <td>Albert Einstein Medical Center</td>\n",
              "      <td>in-00001</td>\n",
              "      <td>1</td>\n",
              "      <td>September 2008</td>\n",
              "      <td>Associate at Dept of Molecular Genetics</td>\n",
              "    </tr>\n",
              "    <tr>\n",
              "      <th>2</th>\n",
              "      <td>Work on peptide to restore wt p53 function in ...</td>\n",
              "      <td></td>\n",
              "      <td>Columbia University</td>\n",
              "      <td>in-00001</td>\n",
              "      <td>2</td>\n",
              "      <td>August 2006</td>\n",
              "      <td>Associate Research Scientist</td>\n",
              "    </tr>\n",
              "    <tr>\n",
              "      <th>3</th>\n",
              "      <td>Molecular profiling of colorectal cancer.</td>\n",
              "      <td></td>\n",
              "      <td>Memorial Sloan Kettering Cancer Center</td>\n",
              "      <td>in-00001</td>\n",
              "      <td>3</td>\n",
              "      <td>January 2003</td>\n",
              "      <td>Post Doctoral Research Fellow</td>\n",
              "    </tr>\n",
              "    <tr>\n",
              "      <th>4</th>\n",
              "      <td>Cancer Research at Dept of Surgery.Molecular p...</td>\n",
              "      <td></td>\n",
              "      <td>Sahlgrenska University Hospital</td>\n",
              "      <td>in-00001</td>\n",
              "      <td>4</td>\n",
              "      <td>November 2001</td>\n",
              "      <td>Research Scientist</td>\n",
              "    </tr>\n",
              "    <tr>\n",
              "      <th>5</th>\n",
              "      <td></td>\n",
              "      <td>Present</td>\n",
              "      <td>UCSF</td>\n",
              "      <td>in-00006</td>\n",
              "      <td>0</td>\n",
              "      <td>September 2012</td>\n",
              "      <td>Assistant Professor</td>\n",
              "    </tr>\n",
              "    <tr>\n",
              "      <th>6</th>\n",
              "      <td></td>\n",
              "      <td></td>\n",
              "      <td>Wyss Institute for Biologically Inspired Engin...</td>\n",
              "      <td>in-00006</td>\n",
              "      <td>1</td>\n",
              "      <td>May 2009</td>\n",
              "      <td>Technology Development Fellow</td>\n",
              "    </tr>\n",
              "    <tr>\n",
              "      <th>7</th>\n",
              "      <td>Creation of Ning site with integration to back...</td>\n",
              "      <td>Present</td>\n",
              "      <td>&lt;Online Recruiting Company&gt;</td>\n",
              "      <td>in-000montgomery</td>\n",
              "      <td>0</td>\n",
              "      <td>December 2009</td>\n",
              "      <td>Ning</td>\n",
              "    </tr>\n",
              "    <tr>\n",
              "      <th>8</th>\n",
              "      <td>.Net 4.0 / C# / VS 2010 / Silverlight 4.0 / Bl...</td>\n",
              "      <td>Present</td>\n",
              "      <td>&lt;Medical Testing Company&gt;</td>\n",
              "      <td>in-000montgomery</td>\n",
              "      <td>1</td>\n",
              "      <td>December 2009</td>\n",
              "      <td>.Net 4.0 / C# / VS 2010 / Silverlight 4.0 / Bl...</td>\n",
              "    </tr>\n",
              "    <tr>\n",
              "      <th>9</th>\n",
              "      <td>The new address for Business Intelligence Tool...</td>\n",
              "      <td>Present</td>\n",
              "      <td>000Montgomery.Com</td>\n",
              "      <td>in-000montgomery</td>\n",
              "      <td>2</td>\n",
              "      <td>January 2005</td>\n",
              "      <td>Owner</td>\n",
              "    </tr>\n",
              "    <tr>\n",
              "      <th>10</th>\n",
              "      <td>ASP.NET / C# / SQL 2005 / XML / XSD , create a...</td>\n",
              "      <td>Present</td>\n",
              "      <td>&lt;Software Consulting Company&gt;</td>\n",
              "      <td>in-000montgomery</td>\n",
              "      <td>3</td>\n",
              "      <td>August 2000</td>\n",
              "      <td>ASP.NET / C# / SQL 2005 / XML / XSD</td>\n",
              "    </tr>\n",
              "    <tr>\n",
              "      <th>11</th>\n",
              "      <td>PHP / MySQL, website fixes to existing telepho...</td>\n",
              "      <td></td>\n",
              "      <td>&lt;Software Consulting Company&gt;</td>\n",
              "      <td>in-000montgomery</td>\n",
              "      <td>4</td>\n",
              "      <td>December 2008</td>\n",
              "      <td>PHP / MySQL</td>\n",
              "    </tr>\n",
              "    <tr>\n",
              "      <th>12</th>\n",
              "      <td>VB 6 / SQL, small fixes to existing Temperatur...</td>\n",
              "      <td></td>\n",
              "      <td>&lt;Temperature Sensor Manufacturer&gt;</td>\n",
              "      <td>in-000montgomery</td>\n",
              "      <td>5</td>\n",
              "      <td>February 2009</td>\n",
              "      <td>VB 6 / SQL</td>\n",
              "    </tr>\n",
              "    <tr>\n",
              "      <th>13</th>\n",
              "      <td>ASP.NET / WSDL / JavaScript small website fixe...</td>\n",
              "      <td></td>\n",
              "      <td>&lt;Advertising Company&gt;</td>\n",
              "      <td>in-000montgomery</td>\n",
              "      <td>6</td>\n",
              "      <td>May 2007</td>\n",
              "      <td>ASP.NET / WSDL / JavaScript</td>\n",
              "    </tr>\n",
              "    <tr>\n",
              "      <th>14</th>\n",
              "      <td>ASP.NET / C# / SQL 2005 , resource files, glob...</td>\n",
              "      <td></td>\n",
              "      <td>&lt;Advertising Company&gt;</td>\n",
              "      <td>in-000montgomery</td>\n",
              "      <td>7</td>\n",
              "      <td>March 2007</td>\n",
              "      <td>ASP.NET / C# / SQL 2005</td>\n",
              "    </tr>\n",
              "    <tr>\n",
              "      <th>15</th>\n",
              "      <td>Created MS Access database to record and repor...</td>\n",
              "      <td></td>\n",
              "      <td>&lt;Psychology Organization&gt;</td>\n",
              "      <td>in-000montgomery</td>\n",
              "      <td>8</td>\n",
              "      <td>January 2007</td>\n",
              "      <td>MS Access</td>\n",
              "    </tr>\n",
              "    <tr>\n",
              "      <th>16</th>\n",
              "      <td>C# / MS Vista / Ant Profiler, find and documen...</td>\n",
              "      <td></td>\n",
              "      <td>&lt;Advertising Company&gt;</td>\n",
              "      <td>in-000montgomery</td>\n",
              "      <td>9</td>\n",
              "      <td>February 2007</td>\n",
              "      <td>C# / MS Vista / Ant Profiler</td>\n",
              "    </tr>\n",
              "    <tr>\n",
              "      <th>17</th>\n",
              "      <td>ASP.NET / VB.NET / SQL / XML, Custom portal to...</td>\n",
              "      <td></td>\n",
              "      <td>&lt;National Recruitment Network&gt;</td>\n",
              "      <td>in-000montgomery</td>\n",
              "      <td>10</td>\n",
              "      <td>February 2006</td>\n",
              "      <td>ASP.NET / VB.NET / SQL / XML</td>\n",
              "    </tr>\n",
              "    <tr>\n",
              "      <th>18</th>\n",
              "      <td>Analysis and consultation on upgrade paths for...</td>\n",
              "      <td></td>\n",
              "      <td>&lt;Employment Agency&gt;</td>\n",
              "      <td>in-000montgomery</td>\n",
              "      <td>11</td>\n",
              "      <td>October 2005</td>\n",
              "      <td>ASP / CRM / HRXML</td>\n",
              "    </tr>\n",
              "    <tr>\n",
              "      <th>19</th>\n",
              "      <td>ASP.NET / C# / SQL 2005 / IIS 6.0 / Clients Cu...</td>\n",
              "      <td></td>\n",
              "      <td>&lt;Biometrics Hardware Company&gt;</td>\n",
              "      <td>in-000montgomery</td>\n",
              "      <td>12</td>\n",
              "      <td>July 2006</td>\n",
              "      <td>ASP.NET / C# / SQL 2005 / IIS 6.0 / Clients Cu...</td>\n",
              "    </tr>\n",
              "    <tr>\n",
              "      <th>20</th>\n",
              "      <td>EDI setup, Sterling Commerce Gentran Director,...</td>\n",
              "      <td></td>\n",
              "      <td>&lt;Product Manufacturing Company&gt;</td>\n",
              "      <td>in-000montgomery</td>\n",
              "      <td>13</td>\n",
              "      <td>August 2001</td>\n",
              "      <td>EDI setup</td>\n",
              "    </tr>\n",
              "    <tr>\n",
              "      <th>21</th>\n",
              "      <td>ASP.NET / SQL, created website for Emergency S...</td>\n",
              "      <td></td>\n",
              "      <td>&lt;Emergency Services&gt;</td>\n",
              "      <td>in-000montgomery</td>\n",
              "      <td>14</td>\n",
              "      <td>June 2003</td>\n",
              "      <td>ASP.NET / SQL</td>\n",
              "    </tr>\n",
              "    <tr>\n",
              "      <th>22</th>\n",
              "      <td>MS Access, Modified existing report generation...</td>\n",
              "      <td></td>\n",
              "      <td>&lt;Biotech&gt;</td>\n",
              "      <td>in-000montgomery</td>\n",
              "      <td>15</td>\n",
              "      <td>January 2005</td>\n",
              "      <td>MS Access</td>\n",
              "    </tr>\n",
              "    <tr>\n",
              "      <th>23</th>\n",
              "      <td>VB / SQL/ ASP, analysis of Paradigm Medical ap...</td>\n",
              "      <td></td>\n",
              "      <td>&lt;Network Service Provider&gt;</td>\n",
              "      <td>in-000montgomery</td>\n",
              "      <td>16</td>\n",
              "      <td>October 2001</td>\n",
              "      <td>VB / SQL/ ASP</td>\n",
              "    </tr>\n",
              "    <tr>\n",
              "      <th>24</th>\n",
              "      <td>VB.NET / Win Forms / SQL, Automated Internet S...</td>\n",
              "      <td></td>\n",
              "      <td>&lt;Software Consulting Company&gt;</td>\n",
              "      <td>in-000montgomery</td>\n",
              "      <td>17</td>\n",
              "      <td>October 2000</td>\n",
              "      <td>VB.NET / Win Forms / SQL</td>\n",
              "    </tr>\n",
              "    <tr>\n",
              "      <th>25</th>\n",
              "      <td>MS Access, Project {1} Create tenant managemen...</td>\n",
              "      <td></td>\n",
              "      <td>&lt;Property Management Company&gt;</td>\n",
              "      <td>in-000montgomery</td>\n",
              "      <td>18</td>\n",
              "      <td>September 2002</td>\n",
              "      <td>MS Access</td>\n",
              "    </tr>\n",
              "    <tr>\n",
              "      <th>26</th>\n",
              "      <td>SQL / ASP, Modified existing website for 3rd p...</td>\n",
              "      <td></td>\n",
              "      <td>&lt;Software Media Company&gt;</td>\n",
              "      <td>in-000montgomery</td>\n",
              "      <td>19</td>\n",
              "      <td>August 2001</td>\n",
              "      <td>SQL / ASP</td>\n",
              "    </tr>\n",
              "    <tr>\n",
              "      <th>27</th>\n",
              "      <td>VB / SQL, Setup in-house development environme...</td>\n",
              "      <td></td>\n",
              "      <td>&lt;Commercial Mortgage Company&gt;</td>\n",
              "      <td>in-000montgomery</td>\n",
              "      <td>20</td>\n",
              "      <td>October 2000</td>\n",
              "      <td>VB / SQL</td>\n",
              "    </tr>\n",
              "    <tr>\n",
              "      <th>28</th>\n",
              "      <td>Building of NT Web Server, NTFS, IIS4, SQL Ser...</td>\n",
              "      <td></td>\n",
              "      <td>&lt;Software Consulting Company&gt;</td>\n",
              "      <td>in-000montgomery</td>\n",
              "      <td>21</td>\n",
              "      <td>October 1999</td>\n",
              "      <td>Building of NT Web Server, NTFS, IIS4, SQL Ser...</td>\n",
              "    </tr>\n",
              "    <tr>\n",
              "      <th>29</th>\n",
              "      <td>VB / MS Access / Custom Active-X, Version 1.0 ...</td>\n",
              "      <td></td>\n",
              "      <td>&lt;Online Music Support Company&gt;</td>\n",
              "      <td>in-000montgomery</td>\n",
              "      <td>22</td>\n",
              "      <td>June 2000</td>\n",
              "      <td>VB / MS Access / Custom Active-X</td>\n",
              "    </tr>\n",
              "    <tr>\n",
              "      <th>...</th>\n",
              "      <td>...</td>\n",
              "      <td>...</td>\n",
              "      <td>...</td>\n",
              "      <td>...</td>\n",
              "      <td>...</td>\n",
              "      <td>...</td>\n",
              "      <td>...</td>\n",
              "    </tr>\n",
              "    <tr>\n",
              "      <th>46081</th>\n",
              "      <td></td>\n",
              "      <td></td>\n",
              "      <td>Telefónica Móviles</td>\n",
              "      <td>in-albertocarcedo</td>\n",
              "      <td>1</td>\n",
              "      <td>abril de 2010</td>\n",
              "      <td>Trade Marketing</td>\n",
              "    </tr>\n",
              "    <tr>\n",
              "      <th>46082</th>\n",
              "      <td>Realizando funciones en el Departamento de Tra...</td>\n",
              "      <td></td>\n",
              "      <td>Young &amp; Rubicam</td>\n",
              "      <td>in-albertocarcedo</td>\n",
              "      <td>2</td>\n",
              "      <td>2010</td>\n",
              "      <td>Ejecutivo de Cuentas</td>\n",
              "    </tr>\n",
              "    <tr>\n",
              "      <th>46083</th>\n",
              "      <td>Trabajando exclusivamente para Carrefour Textil</td>\n",
              "      <td></td>\n",
              "      <td>Publicis Groupe</td>\n",
              "      <td>in-albertocarcedo</td>\n",
              "      <td>3</td>\n",
              "      <td>2010</td>\n",
              "      <td>Ejecutivo de Cuentas</td>\n",
              "    </tr>\n",
              "    <tr>\n",
              "      <th>46084</th>\n",
              "      <td>Trabajando principalmente para Telefónica Movi...</td>\n",
              "      <td></td>\n",
              "      <td>Young &amp; Rubicam</td>\n",
              "      <td>in-albertocarcedo</td>\n",
              "      <td>4</td>\n",
              "      <td>2009</td>\n",
              "      <td>Ejecutivo de Cuentas</td>\n",
              "    </tr>\n",
              "    <tr>\n",
              "      <th>46085</th>\n",
              "      <td>Manage the whole site operation activities and...</td>\n",
              "      <td>Present</td>\n",
              "      <td>Perstorp Singapore Pte Ltd</td>\n",
              "      <td>in-albertocarimati</td>\n",
              "      <td>0</td>\n",
              "      <td>January 2008</td>\n",
              "      <td>Site Manager</td>\n",
              "    </tr>\n",
              "    <tr>\n",
              "      <th>46086</th>\n",
              "      <td>Managed continuous production increment and si...</td>\n",
              "      <td></td>\n",
              "      <td>Lonza Singapore Pte Ltd</td>\n",
              "      <td>in-albertocarimati</td>\n",
              "      <td>1</td>\n",
              "      <td>January 2002</td>\n",
              "      <td>Plant Manager</td>\n",
              "    </tr>\n",
              "    <tr>\n",
              "      <th>46087</th>\n",
              "      <td>Major responsibilities:In charge of all the CA...</td>\n",
              "      <td></td>\n",
              "      <td>Lonza Singapore Pte Ltd</td>\n",
              "      <td>in-albertocarimati</td>\n",
              "      <td>2</td>\n",
              "      <td>January 2000</td>\n",
              "      <td>Technical Services and IT Manager</td>\n",
              "    </tr>\n",
              "    <tr>\n",
              "      <th>46088</th>\n",
              "      <td>Transferred to Singapore from Italy to be resp...</td>\n",
              "      <td></td>\n",
              "      <td>Lonza Singapore Pte Ltd</td>\n",
              "      <td>in-albertocarimati</td>\n",
              "      <td>3</td>\n",
              "      <td>January 1997</td>\n",
              "      <td>Process Manager</td>\n",
              "    </tr>\n",
              "    <tr>\n",
              "      <th>46089</th>\n",
              "      <td>In charge of the development of the Basic Engi...</td>\n",
              "      <td></td>\n",
              "      <td>Lonza Polymer and</td>\n",
              "      <td>in-albertocarimati</td>\n",
              "      <td>4</td>\n",
              "      <td>January 1995</td>\n",
              "      <td>Project Manager</td>\n",
              "    </tr>\n",
              "    <tr>\n",
              "      <th>46090</th>\n",
              "      <td></td>\n",
              "      <td></td>\n",
              "      <td>Basf Italia</td>\n",
              "      <td>in-albertocarimati</td>\n",
              "      <td>5</td>\n",
              "      <td>January 1990</td>\n",
              "      <td>Project Engineer</td>\n",
              "    </tr>\n",
              "    <tr>\n",
              "      <th>46091</th>\n",
              "      <td>In charge of process study and major projects ...</td>\n",
              "      <td></td>\n",
              "      <td>BASF</td>\n",
              "      <td>in-albertocarimati</td>\n",
              "      <td>6</td>\n",
              "      <td>January 1990</td>\n",
              "      <td>Process Engineer</td>\n",
              "    </tr>\n",
              "    <tr>\n",
              "      <th>46092</th>\n",
              "      <td></td>\n",
              "      <td></td>\n",
              "      <td>Stazione Sperimentale Per i Combustibili San D...</td>\n",
              "      <td>in-albertocarimati</td>\n",
              "      <td>7</td>\n",
              "      <td>July 1987</td>\n",
              "      <td>Researcher</td>\n",
              "    </tr>\n",
              "    <tr>\n",
              "      <th>46093</th>\n",
              "      <td></td>\n",
              "      <td></td>\n",
              "      <td>Stazione Sperimentale per I Combustibili</td>\n",
              "      <td>in-albertocarimati</td>\n",
              "      <td>8</td>\n",
              "      <td>January 1987</td>\n",
              "      <td>Researcher</td>\n",
              "    </tr>\n",
              "    <tr>\n",
              "      <th>46094</th>\n",
              "      <td></td>\n",
              "      <td>Presente</td>\n",
              "      <td>Glassdrive España</td>\n",
              "      <td>in-albertocarrasco</td>\n",
              "      <td>0</td>\n",
              "      <td>septiembre de 2011</td>\n",
              "      <td>Director de desarrollo de negocio</td>\n",
              "    </tr>\n",
              "    <tr>\n",
              "      <th>46095</th>\n",
              "      <td>- Organización y gestión de la red (120 person...</td>\n",
              "      <td></td>\n",
              "      <td>Saint-Gobain Glassdrive España</td>\n",
              "      <td>in-albertocarrasco</td>\n",
              "      <td>1</td>\n",
              "      <td>enero de 2010</td>\n",
              "      <td>Director de Talleres – Director de Marketing y...</td>\n",
              "    </tr>\n",
              "    <tr>\n",
              "      <th>46096</th>\n",
              "      <td>- Gestión de las actividades comerciales y ope...</td>\n",
              "      <td></td>\n",
              "      <td>Saint-Gobain Glassdrive España</td>\n",
              "      <td>in-albertocarrasco</td>\n",
              "      <td>2</td>\n",
              "      <td>enero de 2009</td>\n",
              "      <td>Director de Marketing y Desarrollo – Director ...</td>\n",
              "    </tr>\n",
              "    <tr>\n",
              "      <th>46097</th>\n",
              "      <td>- Gestión de las actividades comerciales y ope...</td>\n",
              "      <td></td>\n",
              "      <td>Saint-Gobain Glassdrive España</td>\n",
              "      <td>in-albertocarrasco</td>\n",
              "      <td>3</td>\n",
              "      <td>agosto de 2007</td>\n",
              "      <td>Director Region Sur</td>\n",
              "    </tr>\n",
              "    <tr>\n",
              "      <th>46098</th>\n",
              "      <td>Delivery Responsible for the corporate intrane...</td>\n",
              "      <td>Presente</td>\n",
              "      <td>ArcelorMittal</td>\n",
              "      <td>in-albertocarreroderoa</td>\n",
              "      <td>0</td>\n",
              "      <td>abril de 2004</td>\n",
              "      <td>Head of Internal Communications in Spain</td>\n",
              "    </tr>\n",
              "    <tr>\n",
              "      <th>46099</th>\n",
              "      <td>Employee Relations (Social dialogue and negoti...</td>\n",
              "      <td></td>\n",
              "      <td>Corporacion Alimentaria Penasanta</td>\n",
              "      <td>in-albertocarreroderoa</td>\n",
              "      <td>1</td>\n",
              "      <td>agosto de 2002</td>\n",
              "      <td>Human Resources Manager</td>\n",
              "    </tr>\n",
              "    <tr>\n",
              "      <th>46100</th>\n",
              "      <td>Employee Relations (Social dialogue and negoti...</td>\n",
              "      <td></td>\n",
              "      <td>Gonvarri</td>\n",
              "      <td>in-albertocarreroderoa</td>\n",
              "      <td>2</td>\n",
              "      <td>septiembre de 1999</td>\n",
              "      <td>Human Resources Manager</td>\n",
              "    </tr>\n",
              "    <tr>\n",
              "      <th>46101</th>\n",
              "      <td>H&amp;S advise to companies, implementing a comple...</td>\n",
              "      <td></td>\n",
              "      <td>Profesio Siglo XXI</td>\n",
              "      <td>in-albertocarreroderoa</td>\n",
              "      <td>3</td>\n",
              "      <td>febrero de 1999</td>\n",
              "      <td>Health and Safety Supervisor</td>\n",
              "    </tr>\n",
              "    <tr>\n",
              "      <th>46102</th>\n",
              "      <td></td>\n",
              "      <td></td>\n",
              "      <td>Secades, Lozano y Tejon</td>\n",
              "      <td>in-albertocarreroderoa</td>\n",
              "      <td>4</td>\n",
              "      <td>enero de 1996</td>\n",
              "      <td>Labour Lawyer</td>\n",
              "    </tr>\n",
              "    <tr>\n",
              "      <th>46103</th>\n",
              "      <td>Main activities: responsible for the configura...</td>\n",
              "      <td>Present</td>\n",
              "      <td>Amadeus IT Group</td>\n",
              "      <td>in-albertocastellano</td>\n",
              "      <td>0</td>\n",
              "      <td>February 2010</td>\n",
              "      <td>Implementation engineer</td>\n",
              "    </tr>\n",
              "    <tr>\n",
              "      <th>46104</th>\n",
              "      <td></td>\n",
              "      <td>Present</td>\n",
              "      <td>Astek</td>\n",
              "      <td>in-albertocastellano</td>\n",
              "      <td>1</td>\n",
              "      <td>July 2008</td>\n",
              "      <td>Consultant</td>\n",
              "    </tr>\n",
              "    <tr>\n",
              "      <th>46105</th>\n",
              "      <td>Main activities: functional analysis, developm...</td>\n",
              "      <td></td>\n",
              "      <td>Amadeus</td>\n",
              "      <td>in-albertocastellano</td>\n",
              "      <td>2</td>\n",
              "      <td>July 2008</td>\n",
              "      <td>Product definition engineer</td>\n",
              "    </tr>\n",
              "    <tr>\n",
              "      <th>46106</th>\n",
              "      <td>Main activities: analysis, development, test a...</td>\n",
              "      <td></td>\n",
              "      <td>Vodafone IT</td>\n",
              "      <td>in-albertocastellano</td>\n",
              "      <td>3</td>\n",
              "      <td>April 2008</td>\n",
              "      <td>Tester and developper</td>\n",
              "    </tr>\n",
              "    <tr>\n",
              "      <th>46107</th>\n",
              "      <td></td>\n",
              "      <td></td>\n",
              "      <td>Reply</td>\n",
              "      <td>in-albertocastellano</td>\n",
              "      <td>4</td>\n",
              "      <td>April 2008</td>\n",
              "      <td>Consultant</td>\n",
              "    </tr>\n",
              "    <tr>\n",
              "      <th>46108</th>\n",
              "      <td></td>\n",
              "      <td>Present</td>\n",
              "      <td>Namco Bandai Partners</td>\n",
              "      <td>in-albertocesani</td>\n",
              "      <td>0</td>\n",
              "      <td>July 2009</td>\n",
              "      <td>Sales Director</td>\n",
              "    </tr>\n",
              "    <tr>\n",
              "      <th>46109</th>\n",
              "      <td>Sales Director Italiy , for a Branch of Atari ...</td>\n",
              "      <td></td>\n",
              "      <td>Atari Games</td>\n",
              "      <td>in-albertocesani</td>\n",
              "      <td>1</td>\n",
              "      <td>November 2005</td>\n",
              "      <td>sales director</td>\n",
              "    </tr>\n",
              "    <tr>\n",
              "      <th>46110</th>\n",
              "      <td>Sales Manager Italy distributor of software an...</td>\n",
              "      <td></td>\n",
              "      <td>Koch Media srl</td>\n",
              "      <td>in-albertocesani</td>\n",
              "      <td>2</td>\n",
              "      <td>April 2003</td>\n",
              "      <td>Sales Manager Italy</td>\n",
              "    </tr>\n",
              "  </tbody>\n",
              "</table>\n",
              "<p>46111 rows × 7 columns</p>\n",
              "</div>"
            ],
            "text/plain": [
              "                                                    desc  ...                                              title\n",
              "0      Biomarker Leader for compounds in clinical dev...  ...              Senior Scientist, Oncology Biomarkers\n",
              "1                           Single Cell Gene expression.  ...            Associate at Dept of Molecular Genetics\n",
              "2      Work on peptide to restore wt p53 function in ...  ...                       Associate Research Scientist\n",
              "3              Molecular profiling of colorectal cancer.  ...                      Post Doctoral Research Fellow\n",
              "4      Cancer Research at Dept of Surgery.Molecular p...  ...                                 Research Scientist\n",
              "5                                                         ...                                Assistant Professor\n",
              "6                                                         ...                      Technology Development Fellow\n",
              "7      Creation of Ning site with integration to back...  ...                                               Ning\n",
              "8      .Net 4.0 / C# / VS 2010 / Silverlight 4.0 / Bl...  ...  .Net 4.0 / C# / VS 2010 / Silverlight 4.0 / Bl...\n",
              "9      The new address for Business Intelligence Tool...  ...                                              Owner\n",
              "10     ASP.NET / C# / SQL 2005 / XML / XSD , create a...  ...                ASP.NET / C# / SQL 2005 / XML / XSD\n",
              "11     PHP / MySQL, website fixes to existing telepho...  ...                                        PHP / MySQL\n",
              "12     VB 6 / SQL, small fixes to existing Temperatur...  ...                                         VB 6 / SQL\n",
              "13     ASP.NET / WSDL / JavaScript small website fixe...  ...                        ASP.NET / WSDL / JavaScript\n",
              "14     ASP.NET / C# / SQL 2005 , resource files, glob...  ...                            ASP.NET / C# / SQL 2005\n",
              "15     Created MS Access database to record and repor...  ...                                          MS Access\n",
              "16     C# / MS Vista / Ant Profiler, find and documen...  ...                       C# / MS Vista / Ant Profiler\n",
              "17     ASP.NET / VB.NET / SQL / XML, Custom portal to...  ...                       ASP.NET / VB.NET / SQL / XML\n",
              "18     Analysis and consultation on upgrade paths for...  ...                                  ASP / CRM / HRXML\n",
              "19     ASP.NET / C# / SQL 2005 / IIS 6.0 / Clients Cu...  ...  ASP.NET / C# / SQL 2005 / IIS 6.0 / Clients Cu...\n",
              "20     EDI setup, Sterling Commerce Gentran Director,...  ...                                          EDI setup\n",
              "21     ASP.NET / SQL, created website for Emergency S...  ...                                      ASP.NET / SQL\n",
              "22     MS Access, Modified existing report generation...  ...                                          MS Access\n",
              "23     VB / SQL/ ASP, analysis of Paradigm Medical ap...  ...                                      VB / SQL/ ASP\n",
              "24     VB.NET / Win Forms / SQL, Automated Internet S...  ...                           VB.NET / Win Forms / SQL\n",
              "25     MS Access, Project {1} Create tenant managemen...  ...                                          MS Access\n",
              "26     SQL / ASP, Modified existing website for 3rd p...  ...                                          SQL / ASP\n",
              "27     VB / SQL, Setup in-house development environme...  ...                                           VB / SQL\n",
              "28     Building of NT Web Server, NTFS, IIS4, SQL Ser...  ...  Building of NT Web Server, NTFS, IIS4, SQL Ser...\n",
              "29     VB / MS Access / Custom Active-X, Version 1.0 ...  ...                   VB / MS Access / Custom Active-X\n",
              "...                                                  ...  ...                                                ...\n",
              "46081                                                     ...                                    Trade Marketing\n",
              "46082  Realizando funciones en el Departamento de Tra...  ...                               Ejecutivo de Cuentas\n",
              "46083    Trabajando exclusivamente para Carrefour Textil  ...                               Ejecutivo de Cuentas\n",
              "46084  Trabajando principalmente para Telefónica Movi...  ...                               Ejecutivo de Cuentas\n",
              "46085  Manage the whole site operation activities and...  ...                                       Site Manager\n",
              "46086  Managed continuous production increment and si...  ...                                      Plant Manager\n",
              "46087  Major responsibilities:In charge of all the CA...  ...                  Technical Services and IT Manager\n",
              "46088  Transferred to Singapore from Italy to be resp...  ...                                    Process Manager\n",
              "46089  In charge of the development of the Basic Engi...  ...                                    Project Manager\n",
              "46090                                                     ...                                   Project Engineer\n",
              "46091  In charge of process study and major projects ...  ...                                   Process Engineer\n",
              "46092                                                     ...                                         Researcher\n",
              "46093                                                     ...                                         Researcher\n",
              "46094                                                     ...                  Director de desarrollo de negocio\n",
              "46095  - Organización y gestión de la red (120 person...  ...  Director de Talleres – Director de Marketing y...\n",
              "46096  - Gestión de las actividades comerciales y ope...  ...  Director de Marketing y Desarrollo – Director ...\n",
              "46097  - Gestión de las actividades comerciales y ope...  ...                                Director Region Sur\n",
              "46098  Delivery Responsible for the corporate intrane...  ...           Head of Internal Communications in Spain\n",
              "46099  Employee Relations (Social dialogue and negoti...  ...                            Human Resources Manager\n",
              "46100  Employee Relations (Social dialogue and negoti...  ...                            Human Resources Manager\n",
              "46101  H&S advise to companies, implementing a comple...  ...                       Health and Safety Supervisor\n",
              "46102                                                     ...                                      Labour Lawyer\n",
              "46103  Main activities: responsible for the configura...  ...                            Implementation engineer\n",
              "46104                                                     ...                                         Consultant\n",
              "46105  Main activities: functional analysis, developm...  ...                        Product definition engineer\n",
              "46106  Main activities: analysis, development, test a...  ...                              Tester and developper\n",
              "46107                                                     ...                                         Consultant\n",
              "46108                                                     ...                                     Sales Director\n",
              "46109  Sales Director Italiy , for a Branch of Atari ...  ...                                     sales director\n",
              "46110  Sales Manager Italy distributor of software an...  ...                                Sales Manager Italy\n",
              "\n",
              "[46111 rows x 7 columns]"
            ]
          },
          "metadata": {
            "tags": []
          }
        }
      ]
    },
    {
      "cell_type": "code",
      "metadata": {
        "colab_type": "code",
        "deletable": false,
        "editable": false,
        "id": "y6f7BRIfTFKx",
        "nbgrader": {
          "cell_type": "code",
          "checksum": "78b6dc108b874641b07739eef9ef896d",
          "grade": true,
          "grade_id": "0-1-1-test",
          "locked": true,
          "points": 1,
          "schema_version": 3,
          "solution": false,
          "task": false
        },
        "colab": {}
      },
      "source": [
        "# CIS 545 Hidden Test 0.1.1 - please do not modify or delete this cell!\n"
      ],
      "execution_count": 0,
      "outputs": []
    },
    {
      "cell_type": "code",
      "metadata": {
        "colab_type": "code",
        "deletable": false,
        "editable": false,
        "id": "8vEobQewTfGT",
        "nbgrader": {
          "cell_type": "code",
          "checksum": "662cb96b4661930faefdd11957fb46a8",
          "grade": true,
          "grade_id": "0-1-2-test",
          "locked": true,
          "points": 1,
          "schema_version": 3,
          "solution": false,
          "task": false
        },
        "colab": {}
      },
      "source": [
        "# CIS 545 Hidden Test 0.1.2 - please do not modify or delete this cell!\n"
      ],
      "execution_count": 0,
      "outputs": []
    },
    {
      "cell_type": "code",
      "metadata": {
        "colab_type": "code",
        "deletable": false,
        "editable": false,
        "id": "cXeSZ94XTmZ2",
        "nbgrader": {
          "cell_type": "code",
          "checksum": "25a05a576ed9001b90b8f5d40d06cbe2",
          "grade": true,
          "grade_id": "0-1-3-test",
          "locked": true,
          "points": 1,
          "schema_version": 3,
          "solution": false,
          "task": false
        },
        "colab": {}
      },
      "source": [
        "# CIS 545 Hidden Test 0.1.3 - please do not modify or delete this cell!\n"
      ],
      "execution_count": 0,
      "outputs": []
    },
    {
      "cell_type": "markdown",
      "metadata": {
        "colab_type": "text",
        "deletable": false,
        "editable": false,
        "id": "2uovhjepA2cE",
        "nbgrader": {
          "cell_type": "markdown",
          "checksum": "acbffcab652282ef674d69b4aede35ee",
          "grade": false,
          "grade_id": "cell-a7b3effa108ede81",
          "locked": true,
          "schema_version": 3,
          "solution": false,
          "task": false
        }
      },
      "source": [
        "## Step 0.2: Convert to SQL\n",
        "\n",
        "Next save the data to SQLite...  Again, using the same approach as in the sample notebook."
      ]
    },
    {
      "cell_type": "code",
      "metadata": {
        "colab_type": "code",
        "deletable": false,
        "id": "OMEndMrM282B",
        "nbgrader": {
          "cell_type": "code",
          "checksum": "22f773d4d8bbce7949196b5e993953e9",
          "grade": false,
          "grade_id": "0-2-ans",
          "locked": false,
          "schema_version": 3,
          "solution": true,
          "task": false
        },
        "colab": {}
      },
      "source": [
        "#conn = sqlite3.connect('linkedin.db')\n",
        "people_df.to_sql('people', conn, if_exists='replace', index=False)\n",
        "names_df.to_sql('names', conn, if_exists='replace', index=False)\n",
        "education_df.to_sql('education', conn, if_exists='replace', index=False)\n",
        "groups_df.to_sql('groups', conn, if_exists='replace', index=False)\n",
        "skills_df.to_sql('skills', conn, if_exists='replace', index=False)\n",
        "experience_df.to_sql('experience', conn, if_exists='replace', index=False)\n",
        "honors_df.to_sql('honors', conn, if_exists='replace', index=False)\n",
        "also_view_df.to_sql('also_view', conn, if_exists='replace', index=False)\n",
        "events_df.to_sql('events', conn, if_exists='replace', index=False)\n"
      ],
      "execution_count": 0,
      "outputs": []
    },
    {
      "cell_type": "code",
      "metadata": {
        "colab_type": "code",
        "deletable": false,
        "editable": false,
        "id": "nWX716u93MLx",
        "nbgrader": {
          "cell_type": "code",
          "checksum": "21c423cb12953ae8180755b8dedfb787",
          "grade": true,
          "grade_id": "0-2-1-san",
          "locked": true,
          "points": 1,
          "schema_version": 3,
          "solution": false,
          "task": false
        },
        "outputId": "65f2cc9a-228a-4931-c8b8-a9d3486d8afa",
        "colab": {
          "base_uri": "https://localhost:8080/",
          "height": 173
        }
      },
      "source": [
        "# CIS 545 Sanity Check 0.2.1 - please do not modify or delete this cell!\n",
        "\n",
        "people_df.describe()"
      ],
      "execution_count": 10,
      "outputs": [
        {
          "output_type": "execute_result",
          "data": {
            "text/html": [
              "<div>\n",
              "<style scoped>\n",
              "    .dataframe tbody tr th:only-of-type {\n",
              "        vertical-align: middle;\n",
              "    }\n",
              "\n",
              "    .dataframe tbody tr th {\n",
              "        vertical-align: top;\n",
              "    }\n",
              "\n",
              "    .dataframe thead th {\n",
              "        text-align: right;\n",
              "    }\n",
              "</style>\n",
              "<table border=\"1\" class=\"dataframe\">\n",
              "  <thead>\n",
              "    <tr style=\"text-align: right;\">\n",
              "      <th></th>\n",
              "      <th>_id</th>\n",
              "      <th>homepage</th>\n",
              "      <th>industry</th>\n",
              "      <th>interests</th>\n",
              "      <th>locality</th>\n",
              "      <th>overview_html</th>\n",
              "      <th>specilities</th>\n",
              "      <th>summary</th>\n",
              "      <th>url</th>\n",
              "    </tr>\n",
              "  </thead>\n",
              "  <tbody>\n",
              "    <tr>\n",
              "      <th>count</th>\n",
              "      <td>10000</td>\n",
              "      <td>10000</td>\n",
              "      <td>10000</td>\n",
              "      <td>10000</td>\n",
              "      <td>10000</td>\n",
              "      <td>10000</td>\n",
              "      <td>10000</td>\n",
              "      <td>10000</td>\n",
              "      <td>10000</td>\n",
              "    </tr>\n",
              "    <tr>\n",
              "      <th>unique</th>\n",
              "      <td>10000</td>\n",
              "      <td>238</td>\n",
              "      <td>833</td>\n",
              "      <td>2911</td>\n",
              "      <td>1264</td>\n",
              "      <td>463</td>\n",
              "      <td>2957</td>\n",
              "      <td>5747</td>\n",
              "      <td>10000</td>\n",
              "    </tr>\n",
              "    <tr>\n",
              "      <th>top</th>\n",
              "      <td>in-ajaydubey</td>\n",
              "      <td></td>\n",
              "      <td>Information Technology and Services</td>\n",
              "      <td></td>\n",
              "      <td>San Francisco Bay Area</td>\n",
              "      <td></td>\n",
              "      <td></td>\n",
              "      <td></td>\n",
              "      <td>http://www.linkedin.com/in/aebrest</td>\n",
              "    </tr>\n",
              "    <tr>\n",
              "      <th>freq</th>\n",
              "      <td>1</td>\n",
              "      <td>9763</td>\n",
              "      <td>1198</td>\n",
              "      <td>7080</td>\n",
              "      <td>442</td>\n",
              "      <td>9536</td>\n",
              "      <td>7040</td>\n",
              "      <td>4248</td>\n",
              "      <td>1</td>\n",
              "    </tr>\n",
              "  </tbody>\n",
              "</table>\n",
              "</div>"
            ],
            "text/plain": [
              "                 _id homepage  ... summary                                 url\n",
              "count          10000    10000  ...   10000                               10000\n",
              "unique         10000      238  ...    5747                               10000\n",
              "top     in-ajaydubey           ...          http://www.linkedin.com/in/aebrest\n",
              "freq               1     9763  ...    4248                                   1\n",
              "\n",
              "[4 rows x 9 columns]"
            ]
          },
          "metadata": {
            "tags": []
          },
          "execution_count": 10
        }
      ]
    },
    {
      "cell_type": "code",
      "metadata": {
        "colab_type": "code",
        "deletable": false,
        "editable": false,
        "id": "fD1WW-4qiHP8",
        "nbgrader": {
          "cell_type": "code",
          "checksum": "d98de5be163a08b9ae53b904ca7e514b",
          "grade": true,
          "grade_id": "0-2-2-san",
          "locked": true,
          "points": 1,
          "schema_version": 3,
          "solution": false,
          "task": false
        },
        "outputId": "09756ee0-bf17-4246-8040-c7806a55dc31",
        "colab": {
          "base_uri": "https://localhost:8080/",
          "height": 173
        }
      },
      "source": [
        "# CIS 545 Sanity Check 0.2.2 - please do not modify or delete this cell!\n",
        "\n",
        "skills_df.describe()"
      ],
      "execution_count": 11,
      "outputs": [
        {
          "output_type": "execute_result",
          "data": {
            "text/html": [
              "<div>\n",
              "<style scoped>\n",
              "    .dataframe tbody tr th:only-of-type {\n",
              "        vertical-align: middle;\n",
              "    }\n",
              "\n",
              "    .dataframe tbody tr th {\n",
              "        vertical-align: top;\n",
              "    }\n",
              "\n",
              "    .dataframe thead th {\n",
              "        text-align: right;\n",
              "    }\n",
              "</style>\n",
              "<table border=\"1\" class=\"dataframe\">\n",
              "  <thead>\n",
              "    <tr style=\"text-align: right;\">\n",
              "      <th></th>\n",
              "      <th>person</th>\n",
              "      <th>pos</th>\n",
              "      <th>value</th>\n",
              "    </tr>\n",
              "  </thead>\n",
              "  <tbody>\n",
              "    <tr>\n",
              "      <th>count</th>\n",
              "      <td>110065</td>\n",
              "      <td>110065</td>\n",
              "      <td>110065</td>\n",
              "    </tr>\n",
              "    <tr>\n",
              "      <th>unique</th>\n",
              "      <td>7567</td>\n",
              "      <td>50</td>\n",
              "      <td>16156</td>\n",
              "    </tr>\n",
              "    <tr>\n",
              "      <th>top</th>\n",
              "      <td>in-airiancook</td>\n",
              "      <td>0</td>\n",
              "      <td>Project Management</td>\n",
              "    </tr>\n",
              "    <tr>\n",
              "      <th>freq</th>\n",
              "      <td>50</td>\n",
              "      <td>7567</td>\n",
              "      <td>714</td>\n",
              "    </tr>\n",
              "  </tbody>\n",
              "</table>\n",
              "</div>"
            ],
            "text/plain": [
              "               person     pos               value\n",
              "count          110065  110065              110065\n",
              "unique           7567      50               16156\n",
              "top     in-airiancook       0  Project Management\n",
              "freq               50    7567                 714"
            ]
          },
          "metadata": {
            "tags": []
          },
          "execution_count": 11
        }
      ]
    },
    {
      "cell_type": "code",
      "metadata": {
        "colab_type": "code",
        "deletable": false,
        "editable": false,
        "id": "N7AO3Um0iHYE",
        "nbgrader": {
          "cell_type": "code",
          "checksum": "1e77e70a7887a6508367b725680c5db0",
          "grade": true,
          "grade_id": "0-2-3-san",
          "locked": true,
          "points": 1,
          "schema_version": 3,
          "solution": false,
          "task": false
        },
        "outputId": "4f290db4-9861-4b49-c3e4-9631996e081b",
        "colab": {
          "base_uri": "https://localhost:8080/",
          "height": 173
        }
      },
      "source": [
        "# CIS 545 Sanity Check 0.2.3 - please do not modify or delete this cell!\n",
        "\n",
        "experience_df.describe()"
      ],
      "execution_count": 12,
      "outputs": [
        {
          "output_type": "execute_result",
          "data": {
            "text/html": [
              "<div>\n",
              "<style scoped>\n",
              "    .dataframe tbody tr th:only-of-type {\n",
              "        vertical-align: middle;\n",
              "    }\n",
              "\n",
              "    .dataframe tbody tr th {\n",
              "        vertical-align: top;\n",
              "    }\n",
              "\n",
              "    .dataframe thead th {\n",
              "        text-align: right;\n",
              "    }\n",
              "</style>\n",
              "<table border=\"1\" class=\"dataframe\">\n",
              "  <thead>\n",
              "    <tr style=\"text-align: right;\">\n",
              "      <th></th>\n",
              "      <th>desc</th>\n",
              "      <th>end</th>\n",
              "      <th>org</th>\n",
              "      <th>person</th>\n",
              "      <th>pos</th>\n",
              "      <th>start</th>\n",
              "      <th>title</th>\n",
              "    </tr>\n",
              "  </thead>\n",
              "  <tbody>\n",
              "    <tr>\n",
              "      <th>count</th>\n",
              "      <td>46111</td>\n",
              "      <td>46111</td>\n",
              "      <td>46111</td>\n",
              "      <td>46111</td>\n",
              "      <td>46111</td>\n",
              "      <td>46111</td>\n",
              "      <td>46111</td>\n",
              "    </tr>\n",
              "    <tr>\n",
              "      <th>unique</th>\n",
              "      <td>27057</td>\n",
              "      <td>13</td>\n",
              "      <td>33171</td>\n",
              "      <td>8670</td>\n",
              "      <td>57</td>\n",
              "      <td>1118</td>\n",
              "      <td>27095</td>\n",
              "    </tr>\n",
              "    <tr>\n",
              "      <th>top</th>\n",
              "      <td></td>\n",
              "      <td></td>\n",
              "      <td>IBM</td>\n",
              "      <td>in-abaid4u</td>\n",
              "      <td>0</td>\n",
              "      <td>January 2011</td>\n",
              "      <td>Software Engineer</td>\n",
              "    </tr>\n",
              "    <tr>\n",
              "      <th>freq</th>\n",
              "      <td>18793</td>\n",
              "      <td>35273</td>\n",
              "      <td>156</td>\n",
              "      <td>57</td>\n",
              "      <td>8670</td>\n",
              "      <td>511</td>\n",
              "      <td>496</td>\n",
              "    </tr>\n",
              "  </tbody>\n",
              "</table>\n",
              "</div>"
            ],
            "text/plain": [
              "         desc    end    org      person    pos         start              title\n",
              "count   46111  46111  46111       46111  46111         46111              46111\n",
              "unique  27057     13  33171        8670     57          1118              27095\n",
              "top                     IBM  in-abaid4u      0  January 2011  Software Engineer\n",
              "freq    18793  35273    156          57   8670           511                496"
            ]
          },
          "metadata": {
            "tags": []
          },
          "execution_count": 12
        }
      ]
    },
    {
      "cell_type": "markdown",
      "metadata": {
        "deletable": false,
        "editable": false,
        "nbgrader": {
          "cell_type": "markdown",
          "checksum": "02e5b3fb9eafa5a8b62a563ed7c52ded",
          "grade": false,
          "grade_id": "cell-27e9476d548c1f91",
          "locked": true,
          "schema_version": 3,
          "solution": false,
          "task": false
        },
        "id": "vO7so7yeosK3",
        "colab_type": "text"
      },
      "source": [
        "# Step 1: What is a data scientist?\n",
        "\n",
        "In this homework, we will use LinkedIn to analyze what it means to be a data scientist (as of a few years ago)."
      ]
    },
    {
      "cell_type": "markdown",
      "metadata": {
        "colab_type": "text",
        "deletable": false,
        "editable": false,
        "id": "HfsP26IsUe1A",
        "nbgrader": {
          "cell_type": "markdown",
          "checksum": "53c1979a54ca8c16fd8347ed1ec376dc",
          "grade": false,
          "grade_id": "cell-2933239c97f3b64b",
          "locked": true,
          "schema_version": 3,
          "solution": false,
          "task": false
        }
      },
      "source": [
        "## Step 1.1: What are common skills for data scientists?\n",
        "\n",
        "Our first question is:  for anyone who's job revolves around data (database administrators, data curators, data engineers, data scientists), *what are the most common skills*?"
      ]
    },
    {
      "cell_type": "markdown",
      "metadata": {
        "deletable": false,
        "editable": false,
        "nbgrader": {
          "cell_type": "markdown",
          "checksum": "a6496060fced0feb46fac9e7436ac3d0",
          "grade": false,
          "grade_id": "cell-d865dc7de26f1fd6",
          "locked": true,
          "schema_version": 3,
          "solution": false,
          "task": false
        },
        "id": "bTMd2MrDosK5",
        "colab_type": "text"
      },
      "source": [
        "### Step 1.1.1: Collect skills (Pandas)\n",
        "\n",
        "Complete the `collect_skills` function below. This and the other functions in this homework allow us to evaluate the correctness of your queries even if your data do not match ours. The function should:\n",
        "\n",
        "1. Using `experience_df`, find all people with a position containing \"data\" in the title. Remember upper versus lower case.\n",
        "2. Using `skills_df`, find all people with \"data science\" as a skill. Again, remember to account for case.\n",
        "3. For all of the unique people found in steps 1 and 2, find the rest of their skills\n",
        "4. Return a dataframe of the top 15 skills, by frequency  (see pandas.DataFrame.sort_values).  The columns should be called `skill` (the name of the skill) and `scientists` (the count of the number of data scientists with this skill)."
      ]
    },
    {
      "cell_type": "code",
      "metadata": {
        "colab_type": "code",
        "deletable": false,
        "id": "fr0Yn1o3Ui7V",
        "nbgrader": {
          "cell_type": "code",
          "checksum": "da69dce7c3db681dc18d0e3768cc7528",
          "grade": false,
          "grade_id": "1-1-1-ans",
          "locked": false,
          "schema_version": 3,
          "solution": true,
          "task": false
        },
        "colab": {}
      },
      "source": [
        "def collect_skills(experience_df, people_df, skills_df):\n",
        "  #experience_df['lower_title'] = experience_df['title'].apply(lambda x: x.lower())\n",
        "  #exp_people = experience_df[experience_df['lower_title'].str.contains('data')]['person']\n",
        "  exp_people = experience_df[experience_df['title'].apply(lambda x : x.lower()).str.contains('data')]['person']\n",
        "  skills_df['lower_value'] = skills_df['value'].apply(lambda x: x.lower())\n",
        "  skill_people = skills_df[skills_df['lower_value'].str.contains('data science')]['person']\n",
        "  unique = exp_people.append(skill_people).unique()\n",
        "  unique_df = get_df(pd.DataFrame(unique))\n",
        "  unique_df.columns = ['person']\n",
        "  all_skills_df = unique_df.merge(skills_df, on = 'person' )\n",
        "  lower_sorted = all_skills_df.groupby('lower_value', as_index=False).count()\n",
        "  test = lower_sorted.sort_values(by = ['pos'], ascending=False)\n",
        "  final = test[['lower_value','pos']].head(15)\n",
        "  final.columns = ['skill','scientists']\n",
        "  return final\n",
        "   \n",
        "    "
      ],
      "execution_count": 0,
      "outputs": []
    },
    {
      "cell_type": "code",
      "metadata": {
        "colab_type": "code",
        "deletable": false,
        "editable": false,
        "id": "F_m25KVi7ShY",
        "nbgrader": {
          "cell_type": "code",
          "checksum": "922dc7409fb35908681e1b7d121ebcad",
          "grade": true,
          "grade_id": "1-1-1-san",
          "locked": true,
          "points": 2,
          "schema_version": 3,
          "solution": false,
          "task": false
        },
        "outputId": "c1f0469b-455d-40bf-8744-730a15efd409",
        "colab": {
          "base_uri": "https://localhost:8080/",
          "height": 1000
        }
      },
      "source": [
        "# CIS 545 Sanity Check 1.1.1 - please do not modify or delete this cell!\n",
        "\n",
        "top_skills_df = collect_skills(experience_df, people_df, skills_df)\n",
        "display(top_skills_df)\n",
        "\n",
        "if \"skill\" not in top_skills_df:\n",
        "    raise AssertionError(\"skill column not defined\")\n",
        "if \"scientists\" not in top_skills_df:\n",
        "    raise AssertionError(\"scientists column not defined\")\n",
        "if len(top_skills_df) != 15:\n",
        "    raise AssertionError(\"dataframe does not have top 15\")  "
      ],
      "execution_count": 20,
      "outputs": [
        {
          "output_type": "display_data",
          "data": {
            "text/plain": [
              "48              in-001monica\n",
              "288                in-061566\n",
              "351              in-08012008\n",
              "1267          in-1hansdeboer\n",
              "1439              in-1mereng\n",
              "1545          in-1rajangupta\n",
              "2291             in-39isfine\n",
              "2343              in-3drayfx\n",
              "2940              in-6ix4our\n",
              "3037             in-78697869\n",
              "3079              in-8050spx\n",
              "3388               in-aaalee\n",
              "3389               in-aaalee\n",
              "3404          in-aabdelhalim\n",
              "3652              in-aadrake\n",
              "3677         in-aadvanderwal\n",
              "3930            in-aalakhani\n",
              "3931            in-aalakhani\n",
              "3935            in-aalakhani\n",
              "4158     in-aamir22647shaikh\n",
              "4296               in-aandre\n",
              "4414              in-aaqwang\n",
              "4426               in-aarani\n",
              "4546              in-aaron99\n",
              "4754     in-aaronchristenson\n",
              "5010            in-aaronemde\n",
              "5116          in-aarongenest\n",
              "5176         in-aarongregory\n",
              "5203          in-aarongrogan\n",
              "5546           in-aaronkreag\n",
              "                ...         \n",
              "42996         in-alanhowlett\n",
              "42999         in-alanhowlett\n",
              "43002         in-alanhowlett\n",
              "43003         in-alanhowlett\n",
              "43004         in-alanhowlett\n",
              "43005         in-alanhowlett\n",
              "43072        in-alanjohnston\n",
              "43619        in-alanoconnor1\n",
              "43689             in-alanpou\n",
              "43827            in-alanrosa\n",
              "43882      in-alanruttenberg\n",
              "44309         in-alanwaldman\n",
              "44310         in-alanwaldman\n",
              "44523      in-alaouisawadogo\n",
              "44666       in-alasdairelder\n",
              "44911             in-alatech\n",
              "45023         in-albacanovas\n",
              "45251              in-albees\n",
              "45324        in-albertaltino\n",
              "45477         in-albertcwong\n",
              "45479         in-albertcwong\n",
              "45480         in-albertcwong\n",
              "45481         in-albertcwong\n",
              "45588            in-albertft\n",
              "45616        in-albertganzon\n",
              "45720         in-albertkramp\n",
              "45856     in-albertnsamirizi\n",
              "45861          in-albertnube\n",
              "45865          in-albertnube\n",
              "45866          in-albertnube\n",
              "Name: person, Length: 296, dtype: object"
            ]
          },
          "metadata": {
            "tags": []
          }
        },
        {
          "output_type": "display_data",
          "data": {
            "text/html": [
              "<div>\n",
              "<style scoped>\n",
              "    .dataframe tbody tr th:only-of-type {\n",
              "        vertical-align: middle;\n",
              "    }\n",
              "\n",
              "    .dataframe tbody tr th {\n",
              "        vertical-align: top;\n",
              "    }\n",
              "\n",
              "    .dataframe thead th {\n",
              "        text-align: right;\n",
              "    }\n",
              "</style>\n",
              "<table border=\"1\" class=\"dataframe\">\n",
              "  <thead>\n",
              "    <tr style=\"text-align: right;\">\n",
              "      <th></th>\n",
              "      <th>skill</th>\n",
              "      <th>scientists</th>\n",
              "    </tr>\n",
              "  </thead>\n",
              "  <tbody>\n",
              "    <tr>\n",
              "      <th>1179</th>\n",
              "      <td>sql</td>\n",
              "      <td>31</td>\n",
              "    </tr>\n",
              "    <tr>\n",
              "      <th>117</th>\n",
              "      <td>business intelligence</td>\n",
              "      <td>30</td>\n",
              "    </tr>\n",
              "    <tr>\n",
              "      <th>288</th>\n",
              "      <td>data warehousing</td>\n",
              "      <td>24</td>\n",
              "    </tr>\n",
              "    <tr>\n",
              "      <th>265</th>\n",
              "      <td>data analysis</td>\n",
              "      <td>22</td>\n",
              "    </tr>\n",
              "    <tr>\n",
              "      <th>749</th>\n",
              "      <td>microsoft office</td>\n",
              "      <td>22</td>\n",
              "    </tr>\n",
              "    <tr>\n",
              "      <th>992</th>\n",
              "      <td>project management</td>\n",
              "      <td>21</td>\n",
              "    </tr>\n",
              "    <tr>\n",
              "      <th>612</th>\n",
              "      <td>java</td>\n",
              "      <td>19</td>\n",
              "    </tr>\n",
              "    <tr>\n",
              "      <th>109</th>\n",
              "      <td>business analysis</td>\n",
              "      <td>17</td>\n",
              "    </tr>\n",
              "    <tr>\n",
              "      <th>528</th>\n",
              "      <td>html</td>\n",
              "      <td>17</td>\n",
              "    </tr>\n",
              "    <tr>\n",
              "      <th>847</th>\n",
              "      <td>oracle</td>\n",
              "      <td>17</td>\n",
              "    </tr>\n",
              "    <tr>\n",
              "      <th>296</th>\n",
              "      <td>databases</td>\n",
              "      <td>16</td>\n",
              "    </tr>\n",
              "    <tr>\n",
              "      <th>1185</th>\n",
              "      <td>sql server</td>\n",
              "      <td>16</td>\n",
              "    </tr>\n",
              "    <tr>\n",
              "      <th>791</th>\n",
              "      <td>mysql</td>\n",
              "      <td>15</td>\n",
              "    </tr>\n",
              "    <tr>\n",
              "      <th>1159</th>\n",
              "      <td>software development</td>\n",
              "      <td>15</td>\n",
              "    </tr>\n",
              "    <tr>\n",
              "      <th>400</th>\n",
              "      <td>etl</td>\n",
              "      <td>14</td>\n",
              "    </tr>\n",
              "  </tbody>\n",
              "</table>\n",
              "</div>"
            ],
            "text/plain": [
              "                      skill  scientists\n",
              "1179                    sql          31\n",
              "117   business intelligence          30\n",
              "288        data warehousing          24\n",
              "265           data analysis          22\n",
              "749        microsoft office          22\n",
              "992      project management          21\n",
              "612                    java          19\n",
              "109       business analysis          17\n",
              "528                    html          17\n",
              "847                  oracle          17\n",
              "296               databases          16\n",
              "1185             sql server          16\n",
              "791                   mysql          15\n",
              "1159   software development          15\n",
              "400                     etl          14"
            ]
          },
          "metadata": {
            "tags": []
          }
        }
      ]
    },
    {
      "cell_type": "code",
      "metadata": {
        "colab_type": "code",
        "deletable": false,
        "editable": false,
        "id": "nODdmq1T8SIK",
        "nbgrader": {
          "cell_type": "code",
          "checksum": "722d156a1c8c5a23ac56684d129d09d6",
          "grade": true,
          "grade_id": "1-1-1-1-test",
          "locked": true,
          "points": 2,
          "schema_version": 3,
          "solution": false,
          "task": false
        },
        "colab": {}
      },
      "source": [
        "# CIS 545 Hidden Test 1.1.1.1 - please do not modify or delete this cell!\n"
      ],
      "execution_count": 0,
      "outputs": []
    },
    {
      "cell_type": "code",
      "metadata": {
        "deletable": false,
        "editable": false,
        "nbgrader": {
          "cell_type": "code",
          "checksum": "c51f4bfa2f2bb22007d343112b3b3850",
          "grade": true,
          "grade_id": "1-1-1-2-test",
          "locked": true,
          "points": 2,
          "schema_version": 3,
          "solution": false,
          "task": false
        },
        "id": "RfMFNzZCosLO",
        "colab_type": "code",
        "colab": {}
      },
      "source": [
        "# CIS 545 Hidden Test 1.1.1.2 - please do not modify or delete this cell!\n"
      ],
      "execution_count": 0,
      "outputs": []
    },
    {
      "cell_type": "code",
      "metadata": {
        "deletable": false,
        "editable": false,
        "nbgrader": {
          "cell_type": "code",
          "checksum": "bb357a85ce3589003897d6cd6ce0cb84",
          "grade": true,
          "grade_id": "1-1-1-3-test",
          "locked": true,
          "points": 2,
          "schema_version": 3,
          "solution": false,
          "task": false
        },
        "id": "_CUj3OqLosLT",
        "colab_type": "code",
        "colab": {}
      },
      "source": [
        "# CIS 545 Hidden Test 1.1.1.3 - please do not modify or delete this cell!\n"
      ],
      "execution_count": 0,
      "outputs": []
    },
    {
      "cell_type": "markdown",
      "metadata": {
        "colab_type": "text",
        "deletable": false,
        "editable": false,
        "id": "lPznbHEzBY1c",
        "nbgrader": {
          "cell_type": "markdown",
          "checksum": "7fb1000c692e052541c5d9eaacfee853",
          "grade": false,
          "grade_id": "cell-cf04468b3ecce3ec",
          "locked": true,
          "schema_version": 3,
          "solution": false,
          "task": false
        }
      },
      "source": [
        "### Step 1.1.2: Top skills (SQL)\n",
        "\n",
        "Compute the same table as in 1.1.1 using SQL. Store it as `top_skills_sql` but otherwise matching the schema and other properties. Be sure to also save the data to SQLLite in a table called `top_skills`, as we will be testing to see if this table exists."
      ]
    },
    {
      "cell_type": "code",
      "metadata": {
        "colab_type": "code",
        "deletable": false,
        "id": "4r8kF8Uc3daC",
        "nbgrader": {
          "cell_type": "code",
          "checksum": "1d7d38699534609e77618430bc530276",
          "grade": false,
          "grade_id": "1-1-2-ans",
          "locked": false,
          "schema_version": 3,
          "solution": true,
          "task": false
        },
        "outputId": "c25b7338-14fa-4384-d6f4-281bc428bf49",
        "colab": {
          "base_uri": "https://localhost:8080/",
          "height": 426
        }
      },
      "source": [
        "#use pandas sql or sqllite sql\n",
        "mysql_statement_exp = \"\"\"CREATE VIEW exp AS SELECT * FROM experience WHERE title LIKE '%data%'; \"\"\"\n",
        "#conn.execute(pd.read_sql(mysql_statement_exp, con = conn))\n",
        "conn.execute(exp = pd.read_sql(mysql_statement_exp, conn))\n",
        "mysql_statement_skills = \"\"\"SELECT * FROM skills WHERE value LIKE '%data science%'; \"\"\"\n",
        "#skills = pd.read_sql_query(mysql_statement_skills, conn)\n",
        "#type(exp)\n",
        "#unique = exp.append(skill).unique()\n",
        "#unique_df = get_df(pd.DataFrame(unique))\n",
        "#unique_df.columns = ['person']\n",
        "#all_skills_df = unique_df.merge(skills_df, on = 'person' )\n",
        "#lower_sorted = all_skills_df.groupby('lower_value', as_index=False).count()\n",
        "#test = lower_sorted.sort_values(by = ['pos'], ascending=False)\n",
        "#final = test[['lower_value','pos']].head(15)\n",
        "#final.columns = ['skill','scientists']\n",
        "#people = pd.read_sql_query('select * from people', conn)\n",
        "\n",
        "#top_skills_sql = collect_skills(exp, people, skills)\n",
        "#top_skills_sql.to_sql('top_skills', conn, if_exists='replace', index=False)\n",
        "#display(top_skills_sql)"
      ],
      "execution_count": 15,
      "outputs": [
        {
          "output_type": "error",
          "ename": "DatabaseError",
          "evalue": "ignored",
          "traceback": [
            "\u001b[0;31m---------------------------------------------------------------------------\u001b[0m",
            "\u001b[0;31mOperationalError\u001b[0m                          Traceback (most recent call last)",
            "\u001b[0;32m/usr/local/lib/python3.6/dist-packages/pandas/io/sql.py\u001b[0m in \u001b[0;36mexecute\u001b[0;34m(self, *args, **kwargs)\u001b[0m\n\u001b[1;32m   1430\u001b[0m             \u001b[0;32melse\u001b[0m\u001b[0;34m:\u001b[0m\u001b[0;34m\u001b[0m\u001b[0;34m\u001b[0m\u001b[0m\n\u001b[0;32m-> 1431\u001b[0;31m                 \u001b[0mcur\u001b[0m\u001b[0;34m.\u001b[0m\u001b[0mexecute\u001b[0m\u001b[0;34m(\u001b[0m\u001b[0;34m*\u001b[0m\u001b[0margs\u001b[0m\u001b[0;34m)\u001b[0m\u001b[0;34m\u001b[0m\u001b[0;34m\u001b[0m\u001b[0m\n\u001b[0m\u001b[1;32m   1432\u001b[0m             \u001b[0;32mreturn\u001b[0m \u001b[0mcur\u001b[0m\u001b[0;34m\u001b[0m\u001b[0;34m\u001b[0m\u001b[0m\n",
            "\u001b[0;31mOperationalError\u001b[0m: table exp already exists",
            "\nDuring handling of the above exception, another exception occurred:\n",
            "\u001b[0;31mDatabaseError\u001b[0m                             Traceback (most recent call last)",
            "\u001b[0;32m<ipython-input-15-e386823aa37a>\u001b[0m in \u001b[0;36m<module>\u001b[0;34m()\u001b[0m\n\u001b[1;32m      1\u001b[0m \u001b[0mmysql_statement_exp\u001b[0m \u001b[0;34m=\u001b[0m \u001b[0;34m\"\"\"CREATE VIEW exp AS SELECT * FROM experience WHERE title LIKE '%data%'; \"\"\"\u001b[0m\u001b[0;34m\u001b[0m\u001b[0;34m\u001b[0m\u001b[0m\n\u001b[1;32m      2\u001b[0m \u001b[0;31m#conn.execute(pd.read_sql(mysql_statement_exp, con = conn))\u001b[0m\u001b[0;34m\u001b[0m\u001b[0;34m\u001b[0m\u001b[0;34m\u001b[0m\u001b[0m\n\u001b[0;32m----> 3\u001b[0;31m \u001b[0mconn\u001b[0m\u001b[0;34m.\u001b[0m\u001b[0mexecute\u001b[0m\u001b[0;34m(\u001b[0m\u001b[0mexp\u001b[0m \u001b[0;34m=\u001b[0m \u001b[0mpd\u001b[0m\u001b[0;34m.\u001b[0m\u001b[0mread_sql\u001b[0m\u001b[0;34m(\u001b[0m\u001b[0mmysql_statement_exp\u001b[0m\u001b[0;34m,\u001b[0m \u001b[0mconn\u001b[0m\u001b[0;34m)\u001b[0m\u001b[0;34m)\u001b[0m\u001b[0;34m\u001b[0m\u001b[0;34m\u001b[0m\u001b[0m\n\u001b[0m\u001b[1;32m      4\u001b[0m \u001b[0mmysql_statement_skills\u001b[0m \u001b[0;34m=\u001b[0m \u001b[0;34m\"\"\"SELECT * FROM skills WHERE value LIKE '%data science%'; \"\"\"\u001b[0m\u001b[0;34m\u001b[0m\u001b[0;34m\u001b[0m\u001b[0m\n\u001b[1;32m      5\u001b[0m \u001b[0;31m#skills = pd.read_sql_query(mysql_statement_skills, conn)\u001b[0m\u001b[0;34m\u001b[0m\u001b[0;34m\u001b[0m\u001b[0;34m\u001b[0m\u001b[0m\n",
            "\u001b[0;32m/usr/local/lib/python3.6/dist-packages/pandas/io/sql.py\u001b[0m in \u001b[0;36mread_sql\u001b[0;34m(sql, con, index_col, coerce_float, params, parse_dates, columns, chunksize)\u001b[0m\n\u001b[1;32m    378\u001b[0m             \u001b[0msql\u001b[0m\u001b[0;34m,\u001b[0m \u001b[0mindex_col\u001b[0m\u001b[0;34m=\u001b[0m\u001b[0mindex_col\u001b[0m\u001b[0;34m,\u001b[0m \u001b[0mparams\u001b[0m\u001b[0;34m=\u001b[0m\u001b[0mparams\u001b[0m\u001b[0;34m,\u001b[0m\u001b[0;34m\u001b[0m\u001b[0;34m\u001b[0m\u001b[0m\n\u001b[1;32m    379\u001b[0m             \u001b[0mcoerce_float\u001b[0m\u001b[0;34m=\u001b[0m\u001b[0mcoerce_float\u001b[0m\u001b[0;34m,\u001b[0m \u001b[0mparse_dates\u001b[0m\u001b[0;34m=\u001b[0m\u001b[0mparse_dates\u001b[0m\u001b[0;34m,\u001b[0m\u001b[0;34m\u001b[0m\u001b[0;34m\u001b[0m\u001b[0m\n\u001b[0;32m--> 380\u001b[0;31m             chunksize=chunksize)\n\u001b[0m\u001b[1;32m    381\u001b[0m \u001b[0;34m\u001b[0m\u001b[0m\n\u001b[1;32m    382\u001b[0m     \u001b[0;32mtry\u001b[0m\u001b[0;34m:\u001b[0m\u001b[0;34m\u001b[0m\u001b[0;34m\u001b[0m\u001b[0m\n",
            "\u001b[0;32m/usr/local/lib/python3.6/dist-packages/pandas/io/sql.py\u001b[0m in \u001b[0;36mread_query\u001b[0;34m(self, sql, index_col, coerce_float, params, parse_dates, chunksize)\u001b[0m\n\u001b[1;32m   1466\u001b[0m \u001b[0;34m\u001b[0m\u001b[0m\n\u001b[1;32m   1467\u001b[0m         \u001b[0margs\u001b[0m \u001b[0;34m=\u001b[0m \u001b[0m_convert_params\u001b[0m\u001b[0;34m(\u001b[0m\u001b[0msql\u001b[0m\u001b[0;34m,\u001b[0m \u001b[0mparams\u001b[0m\u001b[0;34m)\u001b[0m\u001b[0;34m\u001b[0m\u001b[0;34m\u001b[0m\u001b[0m\n\u001b[0;32m-> 1468\u001b[0;31m         \u001b[0mcursor\u001b[0m \u001b[0;34m=\u001b[0m \u001b[0mself\u001b[0m\u001b[0;34m.\u001b[0m\u001b[0mexecute\u001b[0m\u001b[0;34m(\u001b[0m\u001b[0;34m*\u001b[0m\u001b[0margs\u001b[0m\u001b[0;34m)\u001b[0m\u001b[0;34m\u001b[0m\u001b[0;34m\u001b[0m\u001b[0m\n\u001b[0m\u001b[1;32m   1469\u001b[0m         \u001b[0mcolumns\u001b[0m \u001b[0;34m=\u001b[0m \u001b[0;34m[\u001b[0m\u001b[0mcol_desc\u001b[0m\u001b[0;34m[\u001b[0m\u001b[0;36m0\u001b[0m\u001b[0;34m]\u001b[0m \u001b[0;32mfor\u001b[0m \u001b[0mcol_desc\u001b[0m \u001b[0;32min\u001b[0m \u001b[0mcursor\u001b[0m\u001b[0;34m.\u001b[0m\u001b[0mdescription\u001b[0m\u001b[0;34m]\u001b[0m\u001b[0;34m\u001b[0m\u001b[0;34m\u001b[0m\u001b[0m\n\u001b[1;32m   1470\u001b[0m \u001b[0;34m\u001b[0m\u001b[0m\n",
            "\u001b[0;32m/usr/local/lib/python3.6/dist-packages/pandas/io/sql.py\u001b[0m in \u001b[0;36mexecute\u001b[0;34m(self, *args, **kwargs)\u001b[0m\n\u001b[1;32m   1443\u001b[0m                 \"Execution failed on sql '{sql}': {exc}\".format(\n\u001b[1;32m   1444\u001b[0m                     sql=args[0], exc=exc))\n\u001b[0;32m-> 1445\u001b[0;31m             \u001b[0mraise_with_traceback\u001b[0m\u001b[0;34m(\u001b[0m\u001b[0mex\u001b[0m\u001b[0;34m)\u001b[0m\u001b[0;34m\u001b[0m\u001b[0;34m\u001b[0m\u001b[0m\n\u001b[0m\u001b[1;32m   1446\u001b[0m \u001b[0;34m\u001b[0m\u001b[0m\n\u001b[1;32m   1447\u001b[0m     \u001b[0;34m@\u001b[0m\u001b[0mstaticmethod\u001b[0m\u001b[0;34m\u001b[0m\u001b[0;34m\u001b[0m\u001b[0m\n",
            "\u001b[0;32m/usr/local/lib/python3.6/dist-packages/pandas/compat/__init__.py\u001b[0m in \u001b[0;36mraise_with_traceback\u001b[0;34m(exc, traceback)\u001b[0m\n\u001b[1;32m    418\u001b[0m         \u001b[0;32mif\u001b[0m \u001b[0mtraceback\u001b[0m \u001b[0;34m==\u001b[0m \u001b[0mEllipsis\u001b[0m\u001b[0;34m:\u001b[0m\u001b[0;34m\u001b[0m\u001b[0;34m\u001b[0m\u001b[0m\n\u001b[1;32m    419\u001b[0m             \u001b[0m_\u001b[0m\u001b[0;34m,\u001b[0m \u001b[0m_\u001b[0m\u001b[0;34m,\u001b[0m \u001b[0mtraceback\u001b[0m \u001b[0;34m=\u001b[0m \u001b[0msys\u001b[0m\u001b[0;34m.\u001b[0m\u001b[0mexc_info\u001b[0m\u001b[0;34m(\u001b[0m\u001b[0;34m)\u001b[0m\u001b[0;34m\u001b[0m\u001b[0;34m\u001b[0m\u001b[0m\n\u001b[0;32m--> 420\u001b[0;31m         \u001b[0;32mraise\u001b[0m \u001b[0mexc\u001b[0m\u001b[0;34m.\u001b[0m\u001b[0mwith_traceback\u001b[0m\u001b[0;34m(\u001b[0m\u001b[0mtraceback\u001b[0m\u001b[0;34m)\u001b[0m\u001b[0;34m\u001b[0m\u001b[0;34m\u001b[0m\u001b[0m\n\u001b[0m\u001b[1;32m    421\u001b[0m \u001b[0;32melse\u001b[0m\u001b[0;34m:\u001b[0m\u001b[0;34m\u001b[0m\u001b[0;34m\u001b[0m\u001b[0m\n\u001b[1;32m    422\u001b[0m     \u001b[0;31m# this version of raise is a syntax error in Python 3\u001b[0m\u001b[0;34m\u001b[0m\u001b[0;34m\u001b[0m\u001b[0;34m\u001b[0m\u001b[0m\n",
            "\u001b[0;32m/usr/local/lib/python3.6/dist-packages/pandas/io/sql.py\u001b[0m in \u001b[0;36mexecute\u001b[0;34m(self, *args, **kwargs)\u001b[0m\n\u001b[1;32m   1429\u001b[0m                 \u001b[0mcur\u001b[0m\u001b[0;34m.\u001b[0m\u001b[0mexecute\u001b[0m\u001b[0;34m(\u001b[0m\u001b[0;34m*\u001b[0m\u001b[0margs\u001b[0m\u001b[0;34m,\u001b[0m \u001b[0;34m**\u001b[0m\u001b[0mkwargs\u001b[0m\u001b[0;34m)\u001b[0m\u001b[0;34m\u001b[0m\u001b[0;34m\u001b[0m\u001b[0m\n\u001b[1;32m   1430\u001b[0m             \u001b[0;32melse\u001b[0m\u001b[0;34m:\u001b[0m\u001b[0;34m\u001b[0m\u001b[0;34m\u001b[0m\u001b[0m\n\u001b[0;32m-> 1431\u001b[0;31m                 \u001b[0mcur\u001b[0m\u001b[0;34m.\u001b[0m\u001b[0mexecute\u001b[0m\u001b[0;34m(\u001b[0m\u001b[0;34m*\u001b[0m\u001b[0margs\u001b[0m\u001b[0;34m)\u001b[0m\u001b[0;34m\u001b[0m\u001b[0;34m\u001b[0m\u001b[0m\n\u001b[0m\u001b[1;32m   1432\u001b[0m             \u001b[0;32mreturn\u001b[0m \u001b[0mcur\u001b[0m\u001b[0;34m\u001b[0m\u001b[0;34m\u001b[0m\u001b[0m\n\u001b[1;32m   1433\u001b[0m         \u001b[0;32mexcept\u001b[0m \u001b[0mException\u001b[0m \u001b[0;32mas\u001b[0m \u001b[0mexc\u001b[0m\u001b[0;34m:\u001b[0m\u001b[0;34m\u001b[0m\u001b[0;34m\u001b[0m\u001b[0m\n",
            "\u001b[0;31mDatabaseError\u001b[0m: Execution failed on sql 'CREATE VIEW exp AS SELECT * FROM experience WHERE title LIKE '%data%'; ': table exp already exists"
          ]
        }
      ]
    },
    {
      "cell_type": "code",
      "metadata": {
        "colab_type": "code",
        "deletable": false,
        "editable": false,
        "id": "Sy6sTN_VBdsQ",
        "nbgrader": {
          "cell_type": "code",
          "checksum": "33802b40e5377120929b041de0732e15",
          "grade": true,
          "grade_id": "1-1-2-san",
          "locked": true,
          "points": 2,
          "schema_version": 3,
          "solution": false,
          "task": false
        },
        "colab": {}
      },
      "source": [
        "# CIS 545 Sanity Check 1.1.2 - please do not modify or delete this cell!\n",
        "\n",
        "if \"skill\" not in top_skills_sql:\n",
        "    raise AssertionError(\"skill column not defined\")\n",
        "if \"scientists\" not in top_skills_sql:\n",
        "    raise AssertionError(\"scientists column not defined\")\n",
        "if len(top_skills_df) < 1:\n",
        "    raise AssertionError(\"dataframe has no results\")  \n",
        "if len(top_skills_sql.merge(top_skills_df)) != len(top_skills_sql):\n",
        "    raise AssertionError(\"Pandas and SQL versions are not of the same length\")"
      ],
      "execution_count": 0,
      "outputs": []
    },
    {
      "cell_type": "code",
      "metadata": {
        "colab_type": "code",
        "deletable": false,
        "editable": false,
        "id": "qwgWz03YBdze",
        "nbgrader": {
          "cell_type": "code",
          "checksum": "2904b0c7d73eaa42d9716e64e76277d3",
          "grade": true,
          "grade_id": "1-1-2-test",
          "locked": true,
          "points": 2,
          "schema_version": 3,
          "solution": false,
          "task": false
        },
        "colab": {}
      },
      "source": [
        "# CIS 545 Hidden Test 1.1.2 - please do not modify or delete this cell!\n"
      ],
      "execution_count": 0,
      "outputs": []
    },
    {
      "cell_type": "markdown",
      "metadata": {
        "colab_type": "text",
        "deletable": false,
        "editable": false,
        "id": "Mr7NCZbeUjdx",
        "nbgrader": {
          "cell_type": "markdown",
          "checksum": "28ace417561ffc2eee48204e31170391",
          "grade": false,
          "grade_id": "cell-36c63a97e893dd5f",
          "locked": true,
          "schema_version": 3,
          "solution": false,
          "task": false
        }
      },
      "source": [
        "## Step 1.2: What are common titles for those with data science skills?\n",
        "\n",
        "Complete the `collect_titles` function below that aggregates the most recent titles of people with data science skills. This function should use the given dataframes as input and return a two column dataframe: one column called `title` and the other called `count`. You should only consider people who have at least `min_skills` of the top skills for a data scientist. You should also only keep those titles that appear at least `min_count` times.\n",
        "\n",
        "For extra practice, you can also do this in SQL, although we are not grading that."
      ]
    },
    {
      "cell_type": "code",
      "metadata": {
        "colab_type": "code",
        "deletable": false,
        "id": "kyNL9Y_0UmgI",
        "nbgrader": {
          "cell_type": "code",
          "checksum": "18899df92c34a290a94b7c73ecff3428",
          "grade": false,
          "grade_id": "1-2-ans",
          "locked": false,
          "schema_version": 3,
          "solution": true,
          "task": false
        },
        "colab": {}
      },
      "source": [
        "def collect_titles(top_skills_df, skills_df, people_df, experience_df, min_skills, min_count):\n",
        "  people_with_skills = top_skills_df.merge(skills_df, left_on = 'skill', right_on = 'lower_value')\n",
        "  people_counted = people_with_skills.groupby('person', as_index=False).count()\n",
        "  people_with_min_skills = people_counted[people_counted['skill']>=min_skills]\n",
        "  recent_experience_df = experience_df[experience_df['end']=='Present']\n",
        "  relevant_titles = people_with_min_skills.merge(recent_experience_df, left_on='person', right_on='person')\n",
        "  relevant_titles = people_with_min_skills.merge(experience_df, left_on='person', right_on='person')\n",
        "  titles_counted = relevant_titles.groupby('lower_title', as_index=False).count()\n",
        "  titles_with_min_count = titles_counted[titles_counted['lower_value']>=min_count]\n",
        "  final = titles_with_min_count[['lower_title','person']]\n",
        "  final.columns = ['title','count']\n",
        "  return final\n"
      ],
      "execution_count": 0,
      "outputs": []
    },
    {
      "cell_type": "code",
      "metadata": {
        "colab_type": "code",
        "deletable": false,
        "editable": false,
        "id": "05-3-KKnCDGO",
        "nbgrader": {
          "cell_type": "code",
          "checksum": "107fe92efffb369487808f3317868c04",
          "grade": true,
          "grade_id": "1-2-san",
          "locked": true,
          "points": 2,
          "schema_version": 3,
          "solution": false,
          "task": false
        },
        "colab": {}
      },
      "source": [
        "# CIS 545 Sanity Check 1.2 - please do not modify or delete this cell!\n",
        "\n",
        "ds_titles_df = collect_titles(top_skills_df, skills_df, people_df, experience_df, 6, 2)\n",
        "display(ds_titles_df)\n",
        "\n",
        "if \"title\" not in ds_titles_df:\n",
        "    raise AssertionError(\"title column not defined\")\n",
        "if \"count\" not in ds_titles_df:\n",
        "    raise AssertionError(\"count column not defined\")\n",
        "if len(ds_titles_df) < 1:\n",
        "    raise AssertionError(\"dataframe has no results\")"
      ],
      "execution_count": 0,
      "outputs": []
    },
    {
      "cell_type": "code",
      "metadata": {
        "colab_type": "code",
        "deletable": false,
        "editable": false,
        "id": "XtizbGmOCEOv",
        "nbgrader": {
          "cell_type": "code",
          "checksum": "a0a604676fa24e25408bde594dc72a3e",
          "grade": true,
          "grade_id": "1-2-1-test",
          "locked": true,
          "points": 2,
          "schema_version": 3,
          "solution": false,
          "task": false
        },
        "colab": {}
      },
      "source": [
        "# CIS 545 Hidden Test 1.2.1 - please do not modify or delete this cell!\n"
      ],
      "execution_count": 0,
      "outputs": []
    },
    {
      "cell_type": "code",
      "metadata": {
        "deletable": false,
        "editable": false,
        "nbgrader": {
          "cell_type": "code",
          "checksum": "e9d11a502486a3dd11d904a5b81f8791",
          "grade": true,
          "grade_id": "1-2-2-test",
          "locked": true,
          "points": 2,
          "schema_version": 3,
          "solution": false,
          "task": false
        },
        "id": "Y9OwGQPAosLr",
        "colab_type": "code",
        "colab": {}
      },
      "source": [
        "# CIS 545 Hidden Test 1.2.2 - please do not modify or delete this cell!\n"
      ],
      "execution_count": 0,
      "outputs": []
    },
    {
      "cell_type": "code",
      "metadata": {
        "deletable": false,
        "editable": false,
        "nbgrader": {
          "cell_type": "code",
          "checksum": "19a7b52f4ccce1fd118fe8d2727c1014",
          "grade": true,
          "grade_id": "1-2-3-test",
          "locked": true,
          "points": 2,
          "schema_version": 3,
          "solution": false,
          "task": false
        },
        "id": "EhcOoMqfosLv",
        "colab_type": "code",
        "colab": {}
      },
      "source": [
        "# CIS 545 Hidden Test 1.2.3 - please do not modify or delete this cell!\n"
      ],
      "execution_count": 0,
      "outputs": []
    },
    {
      "cell_type": "markdown",
      "metadata": {
        "colab_type": "text",
        "deletable": false,
        "editable": false,
        "id": "YBgiL8fVUnGt",
        "nbgrader": {
          "cell_type": "markdown",
          "checksum": "18f857221c00c8a5f2c356dfae706501",
          "grade": false,
          "grade_id": "cell-cfd32357d45804b8",
          "locked": true,
          "schema_version": 3,
          "solution": false,
          "task": false
        }
      },
      "source": [
        "## Step 1.3: Who employs \"data people\" based on title?\n",
        "\n",
        "Now let's find the list of companies that have employed people with the above titles, ranked by number of employees who have had these titles."
      ]
    },
    {
      "cell_type": "markdown",
      "metadata": {
        "deletable": false,
        "editable": false,
        "nbgrader": {
          "cell_type": "markdown",
          "checksum": "37434e39b4fc4ce02667b8609774828d",
          "grade": false,
          "grade_id": "cell-afdd83d23848f31e",
          "locked": true,
          "schema_version": 3,
          "solution": false,
          "task": false
        },
        "id": "-zUk384vosL2",
        "colab_type": "text"
      },
      "source": [
        "### Step 1.3.1: Data employers\n",
        "\n",
        "Complete the `collect_employers` function below that aggregates the employers with positions corresponding to the most recent titles of people with data science skills. This function should use the given dataframes as input and return a two column dataframe: one column called `org` and the other called `people`. Show the names of companies (in field `org`) with at least `min_count` employees who are \"data people\" (include that count in the `people` column). Order the dataframe by the count of data people in the company in descending order."
      ]
    },
    {
      "cell_type": "code",
      "metadata": {
        "colab_type": "code",
        "deletable": false,
        "id": "ScdYcC1gUsTN",
        "nbgrader": {
          "cell_type": "code",
          "checksum": "0ea84c78c46e5baa28e3c904fef93706",
          "grade": false,
          "grade_id": "1-3-1-ans",
          "locked": false,
          "schema_version": 3,
          "solution": true,
          "task": false
        },
        "colab": {}
      },
      "source": [
        "def collect_employers(experience_df, ds_titles_df, min_count):\n",
        "    relevant_orgs = ds_titles_df.merge(experience_df, left_on = 'title', right_on = 'lower_title')\n",
        "    orgs = relevant_orgs[['org','person']]\n",
        "    orgs.columns = ['org','people']\n",
        "    orgs_unique = orgs.drop_duplicates()\n",
        "    orgs_counted = orgs_unique.groupby('org',as_index = False).count()\n",
        "    orgs_min_count = orgs_counted[orgs_counted['people']>min_count]\n",
        "    orgs_sorted = orgs_min_count.sort_values(by = ['people'], ascending = False)\n",
        "    return orgs_sorted"
      ],
      "execution_count": 0,
      "outputs": []
    },
    {
      "cell_type": "code",
      "metadata": {
        "colab_type": "code",
        "deletable": false,
        "editable": false,
        "id": "JBeTnIkCiN1P",
        "nbgrader": {
          "cell_type": "code",
          "checksum": "c0e0f45f4b2658f5efbeb30475fe5c3b",
          "grade": true,
          "grade_id": "1-3-1-san",
          "locked": true,
          "points": 1,
          "schema_version": 3,
          "solution": false,
          "task": false
        },
        "colab": {}
      },
      "source": [
        "# CIS 545 Sanity Check 1.3.1 - please do not modify or delete this cell!\n",
        "\n",
        "employers_df = collect_employers(experience_df, ds_titles_df, 5)\n",
        "display(employers_df)\n",
        "\n",
        "if \"IBM\" not in employers_df['org'].tolist():\n",
        "    raise AssertionError(\"Missing IBM\")\n",
        "    \n",
        "if employers_df['people'].min() < 4:\n",
        "    raise AssertionError(\"Not filtering properly\")"
      ],
      "execution_count": 0,
      "outputs": []
    },
    {
      "cell_type": "code",
      "metadata": {
        "colab_type": "code",
        "deletable": false,
        "editable": false,
        "id": "y2_ugwWJiN1U",
        "nbgrader": {
          "cell_type": "code",
          "checksum": "bacb1ab825cc3fd2ae46426e96b0d8ef",
          "grade": true,
          "grade_id": "1-3-1-1-test",
          "locked": true,
          "points": 1,
          "schema_version": 3,
          "solution": false,
          "task": false
        },
        "colab": {}
      },
      "source": [
        "# CIS 545 Hidden Test 1.3.1.1 - please do not modify or delete this cell!\n"
      ],
      "execution_count": 0,
      "outputs": []
    },
    {
      "cell_type": "code",
      "metadata": {
        "deletable": false,
        "editable": false,
        "nbgrader": {
          "cell_type": "code",
          "checksum": "9fbe5ef1dacb6ad75e55250eb717b280",
          "grade": true,
          "grade_id": "1-3-1-2-test",
          "locked": true,
          "points": 1,
          "schema_version": 3,
          "solution": false,
          "task": false
        },
        "id": "tp8tGtOMosMA",
        "colab_type": "code",
        "colab": {}
      },
      "source": [
        "# CIS 545 Hidden Test 1.3.1.2 - please do not modify or delete this cell!\n"
      ],
      "execution_count": 0,
      "outputs": []
    },
    {
      "cell_type": "markdown",
      "metadata": {
        "colab_type": "text",
        "deletable": false,
        "editable": false,
        "id": "PJVOmhT5J-9f",
        "nbgrader": {
          "cell_type": "markdown",
          "checksum": "d5e41492d9f990ad61601e075fbaa3a0",
          "grade": false,
          "grade_id": "cell-b4c4f88eb4655f3c",
          "locked": true,
          "schema_version": 3,
          "solution": false,
          "task": false
        }
      },
      "source": [
        "### Step 1.3.2:  Their employees\n",
        "\n",
        "Complete the `collect_employees` function below that aggregates the employees of employers with positions corresponding to the most recent titles of people with data science skills. In other words, who are the employees of the data employers you found before and what are their titles? This function should use the given dataframes as input and return the `org`, `family_name`, `given_name`, and `title` of each person."
      ]
    },
    {
      "cell_type": "code",
      "metadata": {
        "colab_type": "code",
        "deletable": false,
        "id": "uerRWgAiINiT",
        "nbgrader": {
          "cell_type": "code",
          "checksum": "9d0873b08744d8a45699686980f65576",
          "grade": false,
          "grade_id": "1-3-2-ans",
          "locked": false,
          "schema_version": 3,
          "solution": true,
          "task": false
        },
        "colab": {}
      },
      "source": [
        "# TODO: Find the employees of the data employers\n",
        "\n",
        "# YOUR CODE HERE\n",
        "raise NotImplementedError()"
      ],
      "execution_count": 0,
      "outputs": []
    },
    {
      "cell_type": "code",
      "metadata": {
        "colab_type": "code",
        "deletable": false,
        "editable": false,
        "id": "iqRKWa2bibAV",
        "nbgrader": {
          "cell_type": "code",
          "checksum": "ba086b7b19eb9b2735a3b203580a15d3",
          "grade": true,
          "grade_id": "1-3-2-san",
          "locked": true,
          "points": 1,
          "schema_version": 3,
          "solution": false,
          "task": false
        },
        "colab": {}
      },
      "source": [
        "# CIS 545 Sanity Check 1.3.2 - please do not modify or delete this cell!\n",
        "\n",
        "title_people_df = collect_employees(people_df, experience_df, employers_df, names_df, ds_titles_df)\n",
        "display(title_people_df)\n",
        "\n",
        "if len(title_people_df.columns) != 4:\n",
        "    raise AssertionError('Wrong number of columns. Check schema again')"
      ],
      "execution_count": 0,
      "outputs": []
    },
    {
      "cell_type": "code",
      "metadata": {
        "colab_type": "code",
        "deletable": false,
        "editable": false,
        "id": "PAi09aElibAX",
        "nbgrader": {
          "cell_type": "code",
          "checksum": "c98013b40f7cdeeff67634f26e7fb62a",
          "grade": true,
          "grade_id": "1-3-2-1-test",
          "locked": true,
          "points": 1,
          "schema_version": 3,
          "solution": false,
          "task": false
        },
        "colab": {}
      },
      "source": [
        "# CIS 545 Hidden Test 1.3.2.1 - please do not modify or delete this cell!\n"
      ],
      "execution_count": 0,
      "outputs": []
    },
    {
      "cell_type": "code",
      "metadata": {
        "deletable": false,
        "editable": false,
        "nbgrader": {
          "cell_type": "code",
          "checksum": "d0ca6d57744317edbdf4cef724c15040",
          "grade": true,
          "grade_id": "1-3-2-2-test",
          "locked": true,
          "points": 1,
          "schema_version": 3,
          "solution": false,
          "task": false
        },
        "id": "gkmu9HxaosMM",
        "colab_type": "code",
        "colab": {}
      },
      "source": [
        "# CIS 545 Hidden Test 1.3.2.2 - please do not modify or delete this cell!\n"
      ],
      "execution_count": 0,
      "outputs": []
    },
    {
      "cell_type": "code",
      "metadata": {
        "deletable": false,
        "editable": false,
        "nbgrader": {
          "cell_type": "code",
          "checksum": "c59891aa827aab890a14b62ea15f182d",
          "grade": true,
          "grade_id": "1-3-2-3-test",
          "locked": true,
          "points": 1,
          "schema_version": 3,
          "solution": false,
          "task": false
        },
        "id": "gzxseHgXosMQ",
        "colab_type": "code",
        "colab": {}
      },
      "source": [
        "# CIS 545 Hidden Test 1.3.2.3 - please do not modify or delete this cell!\n"
      ],
      "execution_count": 0,
      "outputs": []
    },
    {
      "cell_type": "markdown",
      "metadata": {
        "colab_type": "text",
        "deletable": false,
        "editable": false,
        "id": "5XtTFMLsUtYz",
        "nbgrader": {
          "cell_type": "markdown",
          "checksum": "ba3e867f01f31af6c5b0eb9d104754ba",
          "grade": false,
          "grade_id": "cell-f5111a385c06e950",
          "locked": true,
          "schema_version": 3,
          "solution": false,
          "task": false
        }
      },
      "source": [
        "## Step 1.4: Find peers\n",
        "\n",
        "In many common social graph settings, we can make recommendations to people based on their similarity with other people. In this case, we define similarity in terms of the number of identical skills.\n",
        "\n",
        "Suppose A and B have similar skills: A -> X1 and B -> X1, A -> X2 and B -> X2, etc. up to A -> Xk and B -> Xk.\n",
        "\n",
        "Then given that A and B have similar skills, we might recommend A's employer to B, and vice versa."
      ]
    },
    {
      "cell_type": "markdown",
      "metadata": {
        "deletable": false,
        "editable": false,
        "nbgrader": {
          "cell_type": "markdown",
          "checksum": "8f4b1bc2d2e59ecef127ac201e9c6046",
          "grade": false,
          "grade_id": "cell-8a708107d57cde48",
          "locked": true,
          "schema_version": 3,
          "solution": false,
          "task": false
        },
        "id": "-3kGzYgGosMX",
        "colab_type": "text"
      },
      "source": [
        "### Step 1.4.0: Making the problem tractable in Pandas\n",
        "\n",
        "Let's consider only the first 100 people in `people_df`.\n",
        "\n",
        "Find, out of this set, the pairs of people with the most shared/common skills, and return the closest 20 pairs in descending order.  We'll then use this to make a *recommendation* for a potential employer and position to each person."
      ]
    },
    {
      "cell_type": "markdown",
      "metadata": {
        "deletable": false,
        "editable": false,
        "nbgrader": {
          "cell_type": "markdown",
          "checksum": "7367e94e64fc7ddbb08f6c599a740f2f",
          "grade": false,
          "grade_id": "cell-69673139d1016aa4",
          "locked": true,
          "schema_version": 3,
          "solution": false,
          "task": false
        },
        "id": "L8Dtg1kfosMZ",
        "colab_type": "text"
      },
      "source": [
        "### Step 1.4.1: Compute the top pairs of peers\n",
        "\n",
        "Complete the `collect_peers` function below that finds the top `num` pairs of peers. In other words, compare each person with each *other* person, counting the total set of skills in common. This function should use the given dataframes and `num` as input and return a three column dataframe: `person_1`, `person_2`, and `common_skills`. The first two columns should be person IDs and the last column should be the number of skills that this pair of people shares.\n",
        "\n",
        "Hint: Doing this requires a *Cartesian product*, i.e., every ID paired with every other ID.  Think about how to create a dataframe just with people IDs, then add a field to this dataframe that will let us combine every record with every record."
      ]
    },
    {
      "cell_type": "code",
      "metadata": {
        "colab_type": "code",
        "deletable": false,
        "id": "3WGjZh3PUzLw",
        "nbgrader": {
          "cell_type": "code",
          "checksum": "22181eb8602d0b2a401709ac5df73b69",
          "grade": false,
          "grade_id": "1-4-1-ans",
          "locked": false,
          "schema_version": 3,
          "solution": true,
          "task": false
        },
        "colab": {}
      },
      "source": [
        "# TODO: Finish the collect_peers function\n",
        "\n",
        "people_df_subset = people_df.head(100)\n",
        "\n",
        "def collect_peers(people_df_subset, skills_df, num):\n",
        "    # YOUR CODE HERE\n",
        "    raise NotImplementedError()"
      ],
      "execution_count": 0,
      "outputs": []
    },
    {
      "cell_type": "code",
      "metadata": {
        "deletable": false,
        "editable": false,
        "nbgrader": {
          "cell_type": "code",
          "checksum": "132367adc67515e7bbb972882f47d34a",
          "grade": true,
          "grade_id": "1-4-1-san",
          "locked": true,
          "points": 2,
          "schema_version": 3,
          "solution": false,
          "task": false
        },
        "id": "R068G-XjosMd",
        "colab_type": "code",
        "colab": {}
      },
      "source": [
        "# CIS 545 Sanity Check 1.4.1 - please do not modify or delete this cell!\n",
        "\n",
        "recs_df = collect_peers(people_df_subset, skills_df, 20)\n",
        "display(recs_df)\n",
        "\n",
        "if \"person_1\" not in recs_df:\n",
        "    raise AssertionError(\"person_1 column not defined\")\n",
        "if \"person_2\" not in recs_df:\n",
        "    raise AssertionError(\"person_2 column not defined\")\n",
        "if \"common_skills\" not in recs_df:\n",
        "    raise AssertionError(\"common_skills column not defined\")\n",
        "if(len(recs_df) != 20):\n",
        "    raise AssertionError('Wrong number of rows in recs_df')"
      ],
      "execution_count": 0,
      "outputs": []
    },
    {
      "cell_type": "code",
      "metadata": {
        "deletable": false,
        "editable": false,
        "nbgrader": {
          "cell_type": "code",
          "checksum": "3a9fa0d1c13c0657225931e7fd85782e",
          "grade": true,
          "grade_id": "1-4-1-1-test",
          "locked": true,
          "points": 2,
          "schema_version": 3,
          "solution": false,
          "task": false
        },
        "id": "NWt_MrLeosMh",
        "colab_type": "code",
        "colab": {}
      },
      "source": [
        "# CIS 545 Hidden Test 1.4.1.1 - please do not modify or delete this cell!\n"
      ],
      "execution_count": 0,
      "outputs": []
    },
    {
      "cell_type": "code",
      "metadata": {
        "deletable": false,
        "editable": false,
        "nbgrader": {
          "cell_type": "code",
          "checksum": "d16b0911283d768a511292437657048c",
          "grade": true,
          "grade_id": "1-4-1-2-test",
          "locked": true,
          "points": 2,
          "schema_version": 3,
          "solution": false,
          "task": false
        },
        "id": "EfC8vYljosMl",
        "colab_type": "code",
        "colab": {}
      },
      "source": [
        "# CIS 545 Hidden Test 1.4.1.2 - please do not modify or delete this cell!\n"
      ],
      "execution_count": 0,
      "outputs": []
    },
    {
      "cell_type": "markdown",
      "metadata": {
        "colab_type": "text",
        "deletable": false,
        "editable": false,
        "id": "5kLiGE3FW4Qn",
        "nbgrader": {
          "cell_type": "markdown",
          "checksum": "46c2c6336fe8a03f456285dad70c4857",
          "grade": false,
          "grade_id": "cell-970437a70996b9ab",
          "locked": true,
          "schema_version": 3,
          "solution": false,
          "task": false
        }
      },
      "source": [
        "### Step 1.4.2: Get the last jobs\n",
        "\n",
        "Complete the `last_job` function below that takes `experience_df` as input and returns the `person`, `title`, and `org` corresponding to each person's **last** (most recent) employment experience (three column dataframe)."
      ]
    },
    {
      "cell_type": "code",
      "metadata": {
        "colab_type": "code",
        "deletable": false,
        "id": "T4bn_WlMjX_u",
        "nbgrader": {
          "cell_type": "code",
          "checksum": "2e4f3086feae300b07ce6d13394eb74a",
          "grade": false,
          "grade_id": "1-4-2-ans",
          "locked": false,
          "schema_version": 3,
          "solution": true,
          "task": false
        },
        "colab": {}
      },
      "source": [
        "# TODO: Complete the last_job function\n",
        "\n",
        "def last_job(experience_df):\n",
        "    # YOUR CODE HERE\n",
        "    raise NotImplementedError()"
      ],
      "execution_count": 0,
      "outputs": []
    },
    {
      "cell_type": "code",
      "metadata": {
        "colab_type": "code",
        "deletable": false,
        "editable": false,
        "id": "Uiebdr3VafNT",
        "nbgrader": {
          "cell_type": "code",
          "checksum": "13912defc16b2da80ca2f30841fbb11b",
          "grade": true,
          "grade_id": "1-4-2-san",
          "locked": true,
          "points": 1,
          "schema_version": 3,
          "solution": false,
          "task": false
        },
        "colab": {}
      },
      "source": [
        "# CIS 545 Sanity Check 1.4.2 - please do not modify or delete this cell!\n",
        "\n",
        "last_job_df = last_job(experience_df)\n",
        "display(last_job_df)\n",
        "\n",
        "if(len(last_job_df.columns) != 3):\n",
        "    raise AssertionError('Wrong number of columns in last_job_df')"
      ],
      "execution_count": 0,
      "outputs": []
    },
    {
      "cell_type": "code",
      "metadata": {
        "deletable": false,
        "editable": false,
        "nbgrader": {
          "cell_type": "code",
          "checksum": "7b2279daacf916953ca84ca27723451a",
          "grade": true,
          "grade_id": "1-4-2-1-test",
          "locked": true,
          "points": 1,
          "schema_version": 3,
          "solution": false,
          "task": false
        },
        "id": "iiSJFNAXosM9",
        "colab_type": "code",
        "colab": {}
      },
      "source": [
        "# CIS 545 Hidden Test 1.4.2.1 - please do not modify or delete this cell!\n"
      ],
      "execution_count": 0,
      "outputs": []
    },
    {
      "cell_type": "code",
      "metadata": {
        "deletable": false,
        "editable": false,
        "nbgrader": {
          "cell_type": "code",
          "checksum": "779b957aaa5868c4c4db44d9d79f7fc6",
          "grade": true,
          "grade_id": "1-4-2-2-test",
          "locked": true,
          "points": 1,
          "schema_version": 3,
          "solution": false,
          "task": false
        },
        "id": "Nw75oq0kosNB",
        "colab_type": "code",
        "colab": {}
      },
      "source": [
        "# CIS 545 Hidden Test 1.4.2.2 - please do not modify or delete this cell!\n"
      ],
      "execution_count": 0,
      "outputs": []
    },
    {
      "cell_type": "code",
      "metadata": {
        "colab_type": "code",
        "deletable": false,
        "editable": false,
        "id": "sJHqsJuxXgNZ",
        "nbgrader": {
          "cell_type": "code",
          "checksum": "0e7662537271f7d7871b8ed03b0a1930",
          "grade": true,
          "grade_id": "1-4-2-3-test",
          "locked": true,
          "points": 1,
          "schema_version": 3,
          "solution": false,
          "task": false
        },
        "colab": {}
      },
      "source": [
        "# CIS 545 Hidden Test 1.4.2.3 - please do not modify or delete this cell!\n"
      ],
      "execution_count": 0,
      "outputs": []
    },
    {
      "cell_type": "markdown",
      "metadata": {
        "deletable": false,
        "editable": false,
        "nbgrader": {
          "cell_type": "markdown",
          "checksum": "a2c39e53cf9abe5b968de4a2cb5fce46",
          "grade": false,
          "grade_id": "cell-989cf4565f3bbf70",
          "locked": true,
          "schema_version": 3,
          "solution": false,
          "task": false
        },
        "id": "vVLNWEgCosNG",
        "colab_type": "text"
      },
      "source": [
        "### Step 1.4.3: Recommend jobs\n",
        "\n",
        "Complete the `recommend_jobs` function below that takes `recs_df`, `names_df`, and `last_job_df` as input and returns for each `person_1`, `person_2`'s most recent `title` and `org`."
      ]
    },
    {
      "cell_type": "code",
      "metadata": {
        "deletable": false,
        "nbgrader": {
          "cell_type": "code",
          "checksum": "069634c2a67cc1fdd40c8d08f1d504ef",
          "grade": false,
          "grade_id": "1-4-3-ans",
          "locked": false,
          "schema_version": 3,
          "solution": true,
          "task": false
        },
        "id": "qzyy5e2TosNH",
        "colab_type": "code",
        "colab": {}
      },
      "source": [
        "# TODO: Complete the recommend_jobs function\n",
        "\n",
        "def recommend_jobs(recs_df, names_df, last_job_df):\n",
        "    # YOUR CODE HERE\n",
        "    raise NotImplementedError()"
      ],
      "execution_count": 0,
      "outputs": []
    },
    {
      "cell_type": "code",
      "metadata": {
        "deletable": false,
        "editable": false,
        "nbgrader": {
          "cell_type": "code",
          "checksum": "fa31fa63ac3d81a94a7e0ee7f0f44bcd",
          "grade": true,
          "grade_id": "1-4-3-san",
          "locked": true,
          "points": 2,
          "schema_version": 3,
          "solution": false,
          "task": false
        },
        "id": "cAUbFfPKosNJ",
        "colab_type": "code",
        "colab": {}
      },
      "source": [
        "# CIS 545 Sanity Check 1.4.3 - please do not modify or delete this cell!\n",
        "\n",
        "recommended_df = recommend_jobs(recs_df, names_df, last_job_df)\n",
        "display(recommended_df)\n",
        "\n",
        "if \"family_name\" not in recommended_df:\n",
        "    raise AssertionError(\"person_1 column not defined\")\n",
        "if \"given_name\" not in recommended_df:\n",
        "    raise AssertionError(\"person_2 column not defined\")\n",
        "if \"person_2\" not in recommended_df:\n",
        "    raise AssertionError(\"common_skills column not defined\")\n",
        "if \"org\" not in recommended_df:\n",
        "    raise AssertionError(\"common_skills column not defined\")\n",
        "if \"title\" not in recommended_df:\n",
        "    raise AssertionError(\"common_skills column not defined\")"
      ],
      "execution_count": 0,
      "outputs": []
    },
    {
      "cell_type": "code",
      "metadata": {
        "deletable": false,
        "editable": false,
        "nbgrader": {
          "cell_type": "code",
          "checksum": "b781d85036f5b77c767632de59734bd4",
          "grade": true,
          "grade_id": "1-4-3-test",
          "locked": true,
          "points": 2,
          "schema_version": 3,
          "solution": false,
          "task": false
        },
        "id": "UtdAav6IosNL",
        "colab_type": "code",
        "colab": {}
      },
      "source": [
        "# CIS 545 Hidden Test 1.4.3 - please do not modify or delete this cell!\n"
      ],
      "execution_count": 0,
      "outputs": []
    },
    {
      "cell_type": "markdown",
      "metadata": {
        "colab_type": "text",
        "deletable": false,
        "editable": false,
        "id": "VClkM-9BKI84",
        "nbgrader": {
          "cell_type": "markdown",
          "checksum": "ded9460c8b1a046b90326da3f3dc2b26",
          "grade": false,
          "grade_id": "cell-3002547b83f8e405",
          "locked": true,
          "schema_version": 3,
          "solution": false,
          "task": false
        }
      },
      "source": [
        "# Step 2: Compare Evaluation Orders\n",
        "\n",
        "This last section relates to our discussions in lecture about computation efficiency with big data."
      ]
    },
    {
      "cell_type": "markdown",
      "metadata": {
        "deletable": false,
        "editable": false,
        "nbgrader": {
          "cell_type": "markdown",
          "checksum": "3cdd63a24299f9cb836524122a955f6b",
          "grade": false,
          "grade_id": "cell-3efe42cac0356604",
          "locked": true,
          "schema_version": 3,
          "solution": false,
          "task": false
        },
        "id": "1AHO6W3rosNO",
        "colab_type": "text"
      },
      "source": [
        "## Step 2.0: Load custom functions\n",
        "\n",
        "Let's look at some computation and optimization tasks.  We'll start with the code from our lecture notebooks, which does joins between dataframes."
      ]
    },
    {
      "cell_type": "code",
      "metadata": {
        "colab_type": "code",
        "id": "3NnnYP9pKMp1",
        "colab": {}
      },
      "source": [
        "# Join using nested loops\n",
        "def merge(S,T,l_on,r_on):\n",
        "    ret = pd.DataFrame()\n",
        "    count = 0\n",
        "    S_ = S.reset_index().drop(columns=['index'])\n",
        "    T_ = T.reset_index().drop(columns=['index'])\n",
        "    for s_index in range(0, len(S)):\n",
        "        for t_index in range(0, len(T)):\n",
        "            count = count + 1\n",
        "            if S_.loc[s_index, l_on] == T_.loc[t_index, r_on]:\n",
        "                ret = ret.append(S_.loc[s_index].append(T_.loc[t_index].drop(labels=r_on)), ignore_index=True)\n",
        "\n",
        "    print('Merge compared %d tuples'%count)\n",
        "    return ret\n",
        "  \n",
        "# Join using a *map*, which is a kind of in-memory index\n",
        "# from keys to (single) values\n",
        "def merge_map(S,T,l_on,r_on):\n",
        "    ret = pd.DataFrame()\n",
        "    T_map = {}\n",
        "    count = 0\n",
        "    # Take each value in the r_on field, and\n",
        "    # make a map entry for it\n",
        "    T_ = T.reset_index().drop(columns=['index'])\n",
        "    for t_index in range(0, len(T)):\n",
        "        # Make sure we aren't overwriting an entry!\n",
        "        assert (T_.loc[t_index,r_on] not in T_map)\n",
        "        T_map[T_.loc[t_index,r_on]] = T_.loc[t_index]\n",
        "        count = count + 1\n",
        "\n",
        "    # Now find matches\n",
        "    S_ = S.reset_index().drop(columns=['index'])\n",
        "    for s_index in range(0, len(S)):\n",
        "        count = count + 1\n",
        "        if S_.loc[s_index, l_on] in T_map:\n",
        "                ret = ret.append(S_.loc[s_index].append(T_map[S_.loc[s_index, l_on]].drop(labels=r_on)), ignore_index=True)\n",
        "\n",
        "    print('Merge compared %d tuples'%count)\n",
        "    return ret"
      ],
      "execution_count": 0,
      "outputs": []
    },
    {
      "cell_type": "markdown",
      "metadata": {
        "colab_type": "text",
        "deletable": false,
        "editable": false,
        "id": "OEgL47PKa-4-",
        "nbgrader": {
          "cell_type": "markdown",
          "checksum": "238fed9d183a3a48dc274222385fb871",
          "grade": false,
          "grade_id": "cell-284837d450db82b2",
          "locked": true,
          "schema_version": 3,
          "solution": false,
          "task": false
        }
      },
      "source": [
        "## Step 2.1: Find an optimal order of evaluation.\n",
        "\n",
        "Reimplement `recommend_jobs` using the above `merge` or `merge_map` functions instead of Pandas' merge. Try to find the **most efficient** way.  You should start with the dataframes `recs_df`, `names_df`, and `last_job_df` from above. Store your results in `recs_new_df`"
      ]
    },
    {
      "cell_type": "code",
      "metadata": {
        "colab_type": "code",
        "deletable": false,
        "id": "FIBUXi58a-My",
        "nbgrader": {
          "cell_type": "code",
          "checksum": "7bcb6934880abd7bc9bc6a4cec56bad4",
          "grade": false,
          "grade_id": "2-1-ans",
          "locked": false,
          "schema_version": 3,
          "solution": true,
          "task": false
        },
        "colab": {}
      },
      "source": [
        "# TODO: Reimplement recommend jobs using our custom merge and merge_map functions\n",
        "\n",
        "def recommend_jobs_new(recs_df, names_df, last_job_df):\n",
        "    # YOUR CODE HERE\n",
        "    raise NotImplementedError()"
      ],
      "execution_count": 0,
      "outputs": []
    },
    {
      "cell_type": "code",
      "metadata": {
        "colab_type": "code",
        "deletable": false,
        "editable": false,
        "id": "aHKleD_beO-R",
        "nbgrader": {
          "cell_type": "code",
          "checksum": "7650a2937ca3f86e70c62f6f92d57a53",
          "grade": true,
          "grade_id": "2-1-san",
          "locked": true,
          "points": 2,
          "schema_version": 3,
          "solution": false,
          "task": false
        },
        "colab": {}
      },
      "source": [
        "# CIS 545 Sanity Check 2.1 - please do not modify or delete this cell!\n",
        "\n",
        "%%time\n",
        "\n",
        "recs_new_df = recommend_jobs_new(recs_df, names_df, last_job_df)\n",
        "\n",
        "if(len(recs_new_df.columns) != 5):\n",
        "    raise AssertionError('Wrong number of columns in recs_new_df')"
      ],
      "execution_count": 0,
      "outputs": []
    },
    {
      "cell_type": "markdown",
      "metadata": {
        "deletable": false,
        "editable": false,
        "nbgrader": {
          "cell_type": "markdown",
          "checksum": "afff0a1143ee92daa1e08ab8e78d3e80",
          "grade": false,
          "grade_id": "cell-81f2cb0677708414",
          "locked": true,
          "schema_version": 3,
          "solution": false,
          "task": false
        },
        "id": "BT6vJ9DXosNV",
        "colab_type": "text"
      },
      "source": [
        "# Step 3: Submitting Your Homework\n",
        "\n",
        "1. When you are done, select “Edit” at the top of the window, **under the filename, not the one that may appear above it**. Then, select “Clear all outputs”. Please do this just before turning is your homework because it reduces the size of your file.\n",
        "\n",
        "\n",
        "2. In the same menu **under the filename**, select “File” and then “Download .ipynb”. It is very important that you do not change the file name of this downloaded notebook. Make sure that something like “(1)” did not get added to the filename and also that you did not download the .py version. Our autograder can only handle .ipynb files with the correct file name.\n",
        "\n",
        "3. Compress the ipynb file into a Zip file **hw2.zip**.\n",
        "\n",
        "4. Go to the [submission site](http://submit.dataanalytics.education), and click on the Google icon.  Log in using your Google@SEAS (if at all possible!) or (if you aren’t an Engineering student) GMail account.  \n",
        "\n",
        "5. Click on the **Courses** icon at the top, then select **CIS 545** and **Save**. Select **cis545-2019c-hw2** and upload **hw2.zip**.\n",
        "\n",
        "6. You should see a message on the submission site notifying you about whether your submission passed validation.  You may resubmit as necessary, but may have to withdraw your previous submission in OpenSubmit in order to do so.\n",
        "\n",
        "**If you have not already, please go to Settings and set your Student ID to your PennID (all numbers)**."
      ]
    }
  ]
}